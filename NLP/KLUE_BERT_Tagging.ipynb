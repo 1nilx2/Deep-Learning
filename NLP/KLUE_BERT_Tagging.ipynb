{
  "nbformat": 4,
  "nbformat_minor": 0,
  "metadata": {
    "colab": {
      "provenance": [],
      "machine_shape": "hm"
    },
    "kernelspec": {
      "name": "python3",
      "display_name": "Python 3"
    },
    "language_info": {
      "name": "python"
    },
    "accelerator": "TPU",
    "gpuClass": "standard",
    "widgets": {
      "application/vnd.jupyter.widget-state+json": {
        "6bf510fa066f43c29dd59ad914161ed6": {
          "model_module": "@jupyter-widgets/controls",
          "model_name": "HBoxModel",
          "model_module_version": "1.5.0",
          "state": {
            "_dom_classes": [],
            "_model_module": "@jupyter-widgets/controls",
            "_model_module_version": "1.5.0",
            "_model_name": "HBoxModel",
            "_view_count": null,
            "_view_module": "@jupyter-widgets/controls",
            "_view_module_version": "1.5.0",
            "_view_name": "HBoxView",
            "box_style": "",
            "children": [
              "IPY_MODEL_841332ffcd574e4ea873697c21133640",
              "IPY_MODEL_226c325676b445b5843d516eeb7848e5",
              "IPY_MODEL_f233d06299ea43d29e63bdad9432f25b"
            ],
            "layout": "IPY_MODEL_a62fde28c0ef4d61a2f647156813099c"
          }
        },
        "841332ffcd574e4ea873697c21133640": {
          "model_module": "@jupyter-widgets/controls",
          "model_name": "HTMLModel",
          "model_module_version": "1.5.0",
          "state": {
            "_dom_classes": [],
            "_model_module": "@jupyter-widgets/controls",
            "_model_module_version": "1.5.0",
            "_model_name": "HTMLModel",
            "_view_count": null,
            "_view_module": "@jupyter-widgets/controls",
            "_view_module_version": "1.5.0",
            "_view_name": "HTMLView",
            "description": "",
            "description_tooltip": null,
            "layout": "IPY_MODEL_f240a0a6dbf546bc94dcef452f139475",
            "placeholder": "​",
            "style": "IPY_MODEL_d7b8951da6304c1c891754a7d94c4974",
            "value": "Downloading (…)solve/main/vocab.txt: 100%"
          }
        },
        "226c325676b445b5843d516eeb7848e5": {
          "model_module": "@jupyter-widgets/controls",
          "model_name": "FloatProgressModel",
          "model_module_version": "1.5.0",
          "state": {
            "_dom_classes": [],
            "_model_module": "@jupyter-widgets/controls",
            "_model_module_version": "1.5.0",
            "_model_name": "FloatProgressModel",
            "_view_count": null,
            "_view_module": "@jupyter-widgets/controls",
            "_view_module_version": "1.5.0",
            "_view_name": "ProgressView",
            "bar_style": "success",
            "description": "",
            "description_tooltip": null,
            "layout": "IPY_MODEL_42e9a946fd1c4c44a50de0c89d4212f4",
            "max": 248477,
            "min": 0,
            "orientation": "horizontal",
            "style": "IPY_MODEL_fa60ba1f0dfe48dc9fad3addd89d768b",
            "value": 248477
          }
        },
        "f233d06299ea43d29e63bdad9432f25b": {
          "model_module": "@jupyter-widgets/controls",
          "model_name": "HTMLModel",
          "model_module_version": "1.5.0",
          "state": {
            "_dom_classes": [],
            "_model_module": "@jupyter-widgets/controls",
            "_model_module_version": "1.5.0",
            "_model_name": "HTMLModel",
            "_view_count": null,
            "_view_module": "@jupyter-widgets/controls",
            "_view_module_version": "1.5.0",
            "_view_name": "HTMLView",
            "description": "",
            "description_tooltip": null,
            "layout": "IPY_MODEL_04507d65d4764f1583856b41f80b8b4a",
            "placeholder": "​",
            "style": "IPY_MODEL_dcb545ec769b48a7b20198263bf0d597",
            "value": " 248k/248k [00:00&lt;00:00, 2.79MB/s]"
          }
        },
        "a62fde28c0ef4d61a2f647156813099c": {
          "model_module": "@jupyter-widgets/base",
          "model_name": "LayoutModel",
          "model_module_version": "1.2.0",
          "state": {
            "_model_module": "@jupyter-widgets/base",
            "_model_module_version": "1.2.0",
            "_model_name": "LayoutModel",
            "_view_count": null,
            "_view_module": "@jupyter-widgets/base",
            "_view_module_version": "1.2.0",
            "_view_name": "LayoutView",
            "align_content": null,
            "align_items": null,
            "align_self": null,
            "border": null,
            "bottom": null,
            "display": null,
            "flex": null,
            "flex_flow": null,
            "grid_area": null,
            "grid_auto_columns": null,
            "grid_auto_flow": null,
            "grid_auto_rows": null,
            "grid_column": null,
            "grid_gap": null,
            "grid_row": null,
            "grid_template_areas": null,
            "grid_template_columns": null,
            "grid_template_rows": null,
            "height": null,
            "justify_content": null,
            "justify_items": null,
            "left": null,
            "margin": null,
            "max_height": null,
            "max_width": null,
            "min_height": null,
            "min_width": null,
            "object_fit": null,
            "object_position": null,
            "order": null,
            "overflow": null,
            "overflow_x": null,
            "overflow_y": null,
            "padding": null,
            "right": null,
            "top": null,
            "visibility": null,
            "width": null
          }
        },
        "f240a0a6dbf546bc94dcef452f139475": {
          "model_module": "@jupyter-widgets/base",
          "model_name": "LayoutModel",
          "model_module_version": "1.2.0",
          "state": {
            "_model_module": "@jupyter-widgets/base",
            "_model_module_version": "1.2.0",
            "_model_name": "LayoutModel",
            "_view_count": null,
            "_view_module": "@jupyter-widgets/base",
            "_view_module_version": "1.2.0",
            "_view_name": "LayoutView",
            "align_content": null,
            "align_items": null,
            "align_self": null,
            "border": null,
            "bottom": null,
            "display": null,
            "flex": null,
            "flex_flow": null,
            "grid_area": null,
            "grid_auto_columns": null,
            "grid_auto_flow": null,
            "grid_auto_rows": null,
            "grid_column": null,
            "grid_gap": null,
            "grid_row": null,
            "grid_template_areas": null,
            "grid_template_columns": null,
            "grid_template_rows": null,
            "height": null,
            "justify_content": null,
            "justify_items": null,
            "left": null,
            "margin": null,
            "max_height": null,
            "max_width": null,
            "min_height": null,
            "min_width": null,
            "object_fit": null,
            "object_position": null,
            "order": null,
            "overflow": null,
            "overflow_x": null,
            "overflow_y": null,
            "padding": null,
            "right": null,
            "top": null,
            "visibility": null,
            "width": null
          }
        },
        "d7b8951da6304c1c891754a7d94c4974": {
          "model_module": "@jupyter-widgets/controls",
          "model_name": "DescriptionStyleModel",
          "model_module_version": "1.5.0",
          "state": {
            "_model_module": "@jupyter-widgets/controls",
            "_model_module_version": "1.5.0",
            "_model_name": "DescriptionStyleModel",
            "_view_count": null,
            "_view_module": "@jupyter-widgets/base",
            "_view_module_version": "1.2.0",
            "_view_name": "StyleView",
            "description_width": ""
          }
        },
        "42e9a946fd1c4c44a50de0c89d4212f4": {
          "model_module": "@jupyter-widgets/base",
          "model_name": "LayoutModel",
          "model_module_version": "1.2.0",
          "state": {
            "_model_module": "@jupyter-widgets/base",
            "_model_module_version": "1.2.0",
            "_model_name": "LayoutModel",
            "_view_count": null,
            "_view_module": "@jupyter-widgets/base",
            "_view_module_version": "1.2.0",
            "_view_name": "LayoutView",
            "align_content": null,
            "align_items": null,
            "align_self": null,
            "border": null,
            "bottom": null,
            "display": null,
            "flex": null,
            "flex_flow": null,
            "grid_area": null,
            "grid_auto_columns": null,
            "grid_auto_flow": null,
            "grid_auto_rows": null,
            "grid_column": null,
            "grid_gap": null,
            "grid_row": null,
            "grid_template_areas": null,
            "grid_template_columns": null,
            "grid_template_rows": null,
            "height": null,
            "justify_content": null,
            "justify_items": null,
            "left": null,
            "margin": null,
            "max_height": null,
            "max_width": null,
            "min_height": null,
            "min_width": null,
            "object_fit": null,
            "object_position": null,
            "order": null,
            "overflow": null,
            "overflow_x": null,
            "overflow_y": null,
            "padding": null,
            "right": null,
            "top": null,
            "visibility": null,
            "width": null
          }
        },
        "fa60ba1f0dfe48dc9fad3addd89d768b": {
          "model_module": "@jupyter-widgets/controls",
          "model_name": "ProgressStyleModel",
          "model_module_version": "1.5.0",
          "state": {
            "_model_module": "@jupyter-widgets/controls",
            "_model_module_version": "1.5.0",
            "_model_name": "ProgressStyleModel",
            "_view_count": null,
            "_view_module": "@jupyter-widgets/base",
            "_view_module_version": "1.2.0",
            "_view_name": "StyleView",
            "bar_color": null,
            "description_width": ""
          }
        },
        "04507d65d4764f1583856b41f80b8b4a": {
          "model_module": "@jupyter-widgets/base",
          "model_name": "LayoutModel",
          "model_module_version": "1.2.0",
          "state": {
            "_model_module": "@jupyter-widgets/base",
            "_model_module_version": "1.2.0",
            "_model_name": "LayoutModel",
            "_view_count": null,
            "_view_module": "@jupyter-widgets/base",
            "_view_module_version": "1.2.0",
            "_view_name": "LayoutView",
            "align_content": null,
            "align_items": null,
            "align_self": null,
            "border": null,
            "bottom": null,
            "display": null,
            "flex": null,
            "flex_flow": null,
            "grid_area": null,
            "grid_auto_columns": null,
            "grid_auto_flow": null,
            "grid_auto_rows": null,
            "grid_column": null,
            "grid_gap": null,
            "grid_row": null,
            "grid_template_areas": null,
            "grid_template_columns": null,
            "grid_template_rows": null,
            "height": null,
            "justify_content": null,
            "justify_items": null,
            "left": null,
            "margin": null,
            "max_height": null,
            "max_width": null,
            "min_height": null,
            "min_width": null,
            "object_fit": null,
            "object_position": null,
            "order": null,
            "overflow": null,
            "overflow_x": null,
            "overflow_y": null,
            "padding": null,
            "right": null,
            "top": null,
            "visibility": null,
            "width": null
          }
        },
        "dcb545ec769b48a7b20198263bf0d597": {
          "model_module": "@jupyter-widgets/controls",
          "model_name": "DescriptionStyleModel",
          "model_module_version": "1.5.0",
          "state": {
            "_model_module": "@jupyter-widgets/controls",
            "_model_module_version": "1.5.0",
            "_model_name": "DescriptionStyleModel",
            "_view_count": null,
            "_view_module": "@jupyter-widgets/base",
            "_view_module_version": "1.2.0",
            "_view_name": "StyleView",
            "description_width": ""
          }
        },
        "b51ac0d6383049699b7c0653764db4d4": {
          "model_module": "@jupyter-widgets/controls",
          "model_name": "HBoxModel",
          "model_module_version": "1.5.0",
          "state": {
            "_dom_classes": [],
            "_model_module": "@jupyter-widgets/controls",
            "_model_module_version": "1.5.0",
            "_model_name": "HBoxModel",
            "_view_count": null,
            "_view_module": "@jupyter-widgets/controls",
            "_view_module_version": "1.5.0",
            "_view_name": "HBoxView",
            "box_style": "",
            "children": [
              "IPY_MODEL_a6b563d249b04a8c90081b08eb7f9623",
              "IPY_MODEL_2e75c44edbe44908a922b4c58be2d794",
              "IPY_MODEL_cca99772a51640b7a1162a55dd17fc6b"
            ],
            "layout": "IPY_MODEL_45cdcbf06a9d4187aabe1006d9f683fa"
          }
        },
        "a6b563d249b04a8c90081b08eb7f9623": {
          "model_module": "@jupyter-widgets/controls",
          "model_name": "HTMLModel",
          "model_module_version": "1.5.0",
          "state": {
            "_dom_classes": [],
            "_model_module": "@jupyter-widgets/controls",
            "_model_module_version": "1.5.0",
            "_model_name": "HTMLModel",
            "_view_count": null,
            "_view_module": "@jupyter-widgets/controls",
            "_view_module_version": "1.5.0",
            "_view_name": "HTMLView",
            "description": "",
            "description_tooltip": null,
            "layout": "IPY_MODEL_5ee82cece144420fbf1e9ea22abbc95f",
            "placeholder": "​",
            "style": "IPY_MODEL_ed8c62ae5704406bbb7581f455fa66a1",
            "value": "Downloading (…)cial_tokens_map.json: 100%"
          }
        },
        "2e75c44edbe44908a922b4c58be2d794": {
          "model_module": "@jupyter-widgets/controls",
          "model_name": "FloatProgressModel",
          "model_module_version": "1.5.0",
          "state": {
            "_dom_classes": [],
            "_model_module": "@jupyter-widgets/controls",
            "_model_module_version": "1.5.0",
            "_model_name": "FloatProgressModel",
            "_view_count": null,
            "_view_module": "@jupyter-widgets/controls",
            "_view_module_version": "1.5.0",
            "_view_name": "ProgressView",
            "bar_style": "success",
            "description": "",
            "description_tooltip": null,
            "layout": "IPY_MODEL_f74ef3ad3ce0465785a04f9412bdf2bc",
            "max": 125,
            "min": 0,
            "orientation": "horizontal",
            "style": "IPY_MODEL_81a21572ad51406da84ec977d935d37a",
            "value": 125
          }
        },
        "cca99772a51640b7a1162a55dd17fc6b": {
          "model_module": "@jupyter-widgets/controls",
          "model_name": "HTMLModel",
          "model_module_version": "1.5.0",
          "state": {
            "_dom_classes": [],
            "_model_module": "@jupyter-widgets/controls",
            "_model_module_version": "1.5.0",
            "_model_name": "HTMLModel",
            "_view_count": null,
            "_view_module": "@jupyter-widgets/controls",
            "_view_module_version": "1.5.0",
            "_view_name": "HTMLView",
            "description": "",
            "description_tooltip": null,
            "layout": "IPY_MODEL_008d39a183dc42d4961a2644e98b4c41",
            "placeholder": "​",
            "style": "IPY_MODEL_b1aec3229e814c158a5d4dda70676652",
            "value": " 125/125 [00:00&lt;00:00, 7.11kB/s]"
          }
        },
        "45cdcbf06a9d4187aabe1006d9f683fa": {
          "model_module": "@jupyter-widgets/base",
          "model_name": "LayoutModel",
          "model_module_version": "1.2.0",
          "state": {
            "_model_module": "@jupyter-widgets/base",
            "_model_module_version": "1.2.0",
            "_model_name": "LayoutModel",
            "_view_count": null,
            "_view_module": "@jupyter-widgets/base",
            "_view_module_version": "1.2.0",
            "_view_name": "LayoutView",
            "align_content": null,
            "align_items": null,
            "align_self": null,
            "border": null,
            "bottom": null,
            "display": null,
            "flex": null,
            "flex_flow": null,
            "grid_area": null,
            "grid_auto_columns": null,
            "grid_auto_flow": null,
            "grid_auto_rows": null,
            "grid_column": null,
            "grid_gap": null,
            "grid_row": null,
            "grid_template_areas": null,
            "grid_template_columns": null,
            "grid_template_rows": null,
            "height": null,
            "justify_content": null,
            "justify_items": null,
            "left": null,
            "margin": null,
            "max_height": null,
            "max_width": null,
            "min_height": null,
            "min_width": null,
            "object_fit": null,
            "object_position": null,
            "order": null,
            "overflow": null,
            "overflow_x": null,
            "overflow_y": null,
            "padding": null,
            "right": null,
            "top": null,
            "visibility": null,
            "width": null
          }
        },
        "5ee82cece144420fbf1e9ea22abbc95f": {
          "model_module": "@jupyter-widgets/base",
          "model_name": "LayoutModel",
          "model_module_version": "1.2.0",
          "state": {
            "_model_module": "@jupyter-widgets/base",
            "_model_module_version": "1.2.0",
            "_model_name": "LayoutModel",
            "_view_count": null,
            "_view_module": "@jupyter-widgets/base",
            "_view_module_version": "1.2.0",
            "_view_name": "LayoutView",
            "align_content": null,
            "align_items": null,
            "align_self": null,
            "border": null,
            "bottom": null,
            "display": null,
            "flex": null,
            "flex_flow": null,
            "grid_area": null,
            "grid_auto_columns": null,
            "grid_auto_flow": null,
            "grid_auto_rows": null,
            "grid_column": null,
            "grid_gap": null,
            "grid_row": null,
            "grid_template_areas": null,
            "grid_template_columns": null,
            "grid_template_rows": null,
            "height": null,
            "justify_content": null,
            "justify_items": null,
            "left": null,
            "margin": null,
            "max_height": null,
            "max_width": null,
            "min_height": null,
            "min_width": null,
            "object_fit": null,
            "object_position": null,
            "order": null,
            "overflow": null,
            "overflow_x": null,
            "overflow_y": null,
            "padding": null,
            "right": null,
            "top": null,
            "visibility": null,
            "width": null
          }
        },
        "ed8c62ae5704406bbb7581f455fa66a1": {
          "model_module": "@jupyter-widgets/controls",
          "model_name": "DescriptionStyleModel",
          "model_module_version": "1.5.0",
          "state": {
            "_model_module": "@jupyter-widgets/controls",
            "_model_module_version": "1.5.0",
            "_model_name": "DescriptionStyleModel",
            "_view_count": null,
            "_view_module": "@jupyter-widgets/base",
            "_view_module_version": "1.2.0",
            "_view_name": "StyleView",
            "description_width": ""
          }
        },
        "f74ef3ad3ce0465785a04f9412bdf2bc": {
          "model_module": "@jupyter-widgets/base",
          "model_name": "LayoutModel",
          "model_module_version": "1.2.0",
          "state": {
            "_model_module": "@jupyter-widgets/base",
            "_model_module_version": "1.2.0",
            "_model_name": "LayoutModel",
            "_view_count": null,
            "_view_module": "@jupyter-widgets/base",
            "_view_module_version": "1.2.0",
            "_view_name": "LayoutView",
            "align_content": null,
            "align_items": null,
            "align_self": null,
            "border": null,
            "bottom": null,
            "display": null,
            "flex": null,
            "flex_flow": null,
            "grid_area": null,
            "grid_auto_columns": null,
            "grid_auto_flow": null,
            "grid_auto_rows": null,
            "grid_column": null,
            "grid_gap": null,
            "grid_row": null,
            "grid_template_areas": null,
            "grid_template_columns": null,
            "grid_template_rows": null,
            "height": null,
            "justify_content": null,
            "justify_items": null,
            "left": null,
            "margin": null,
            "max_height": null,
            "max_width": null,
            "min_height": null,
            "min_width": null,
            "object_fit": null,
            "object_position": null,
            "order": null,
            "overflow": null,
            "overflow_x": null,
            "overflow_y": null,
            "padding": null,
            "right": null,
            "top": null,
            "visibility": null,
            "width": null
          }
        },
        "81a21572ad51406da84ec977d935d37a": {
          "model_module": "@jupyter-widgets/controls",
          "model_name": "ProgressStyleModel",
          "model_module_version": "1.5.0",
          "state": {
            "_model_module": "@jupyter-widgets/controls",
            "_model_module_version": "1.5.0",
            "_model_name": "ProgressStyleModel",
            "_view_count": null,
            "_view_module": "@jupyter-widgets/base",
            "_view_module_version": "1.2.0",
            "_view_name": "StyleView",
            "bar_color": null,
            "description_width": ""
          }
        },
        "008d39a183dc42d4961a2644e98b4c41": {
          "model_module": "@jupyter-widgets/base",
          "model_name": "LayoutModel",
          "model_module_version": "1.2.0",
          "state": {
            "_model_module": "@jupyter-widgets/base",
            "_model_module_version": "1.2.0",
            "_model_name": "LayoutModel",
            "_view_count": null,
            "_view_module": "@jupyter-widgets/base",
            "_view_module_version": "1.2.0",
            "_view_name": "LayoutView",
            "align_content": null,
            "align_items": null,
            "align_self": null,
            "border": null,
            "bottom": null,
            "display": null,
            "flex": null,
            "flex_flow": null,
            "grid_area": null,
            "grid_auto_columns": null,
            "grid_auto_flow": null,
            "grid_auto_rows": null,
            "grid_column": null,
            "grid_gap": null,
            "grid_row": null,
            "grid_template_areas": null,
            "grid_template_columns": null,
            "grid_template_rows": null,
            "height": null,
            "justify_content": null,
            "justify_items": null,
            "left": null,
            "margin": null,
            "max_height": null,
            "max_width": null,
            "min_height": null,
            "min_width": null,
            "object_fit": null,
            "object_position": null,
            "order": null,
            "overflow": null,
            "overflow_x": null,
            "overflow_y": null,
            "padding": null,
            "right": null,
            "top": null,
            "visibility": null,
            "width": null
          }
        },
        "b1aec3229e814c158a5d4dda70676652": {
          "model_module": "@jupyter-widgets/controls",
          "model_name": "DescriptionStyleModel",
          "model_module_version": "1.5.0",
          "state": {
            "_model_module": "@jupyter-widgets/controls",
            "_model_module_version": "1.5.0",
            "_model_name": "DescriptionStyleModel",
            "_view_count": null,
            "_view_module": "@jupyter-widgets/base",
            "_view_module_version": "1.2.0",
            "_view_name": "StyleView",
            "description_width": ""
          }
        },
        "68800547aa214d39bbbdda955030b55e": {
          "model_module": "@jupyter-widgets/controls",
          "model_name": "HBoxModel",
          "model_module_version": "1.5.0",
          "state": {
            "_dom_classes": [],
            "_model_module": "@jupyter-widgets/controls",
            "_model_module_version": "1.5.0",
            "_model_name": "HBoxModel",
            "_view_count": null,
            "_view_module": "@jupyter-widgets/controls",
            "_view_module_version": "1.5.0",
            "_view_name": "HBoxView",
            "box_style": "",
            "children": [
              "IPY_MODEL_33a81ce931244b3f99a2321927236ae9",
              "IPY_MODEL_3d8dbc1bd0ac4abfa9837b16923b3aab",
              "IPY_MODEL_17fda93619004ded91c526894ce373a2"
            ],
            "layout": "IPY_MODEL_bfc6914944a94ddfbd5667922d765c38"
          }
        },
        "33a81ce931244b3f99a2321927236ae9": {
          "model_module": "@jupyter-widgets/controls",
          "model_name": "HTMLModel",
          "model_module_version": "1.5.0",
          "state": {
            "_dom_classes": [],
            "_model_module": "@jupyter-widgets/controls",
            "_model_module_version": "1.5.0",
            "_model_name": "HTMLModel",
            "_view_count": null,
            "_view_module": "@jupyter-widgets/controls",
            "_view_module_version": "1.5.0",
            "_view_name": "HTMLView",
            "description": "",
            "description_tooltip": null,
            "layout": "IPY_MODEL_fac484409beb41ddb2086a6b49bbcb7b",
            "placeholder": "​",
            "style": "IPY_MODEL_184d63dbe57e423e93fa2473fdc6eacd",
            "value": "Downloading (…)okenizer_config.json: 100%"
          }
        },
        "3d8dbc1bd0ac4abfa9837b16923b3aab": {
          "model_module": "@jupyter-widgets/controls",
          "model_name": "FloatProgressModel",
          "model_module_version": "1.5.0",
          "state": {
            "_dom_classes": [],
            "_model_module": "@jupyter-widgets/controls",
            "_model_module_version": "1.5.0",
            "_model_name": "FloatProgressModel",
            "_view_count": null,
            "_view_module": "@jupyter-widgets/controls",
            "_view_module_version": "1.5.0",
            "_view_name": "ProgressView",
            "bar_style": "success",
            "description": "",
            "description_tooltip": null,
            "layout": "IPY_MODEL_c249ecb453c8410b93784189b8fa215b",
            "max": 289,
            "min": 0,
            "orientation": "horizontal",
            "style": "IPY_MODEL_67e6483620b34527a31601efff2a0078",
            "value": 289
          }
        },
        "17fda93619004ded91c526894ce373a2": {
          "model_module": "@jupyter-widgets/controls",
          "model_name": "HTMLModel",
          "model_module_version": "1.5.0",
          "state": {
            "_dom_classes": [],
            "_model_module": "@jupyter-widgets/controls",
            "_model_module_version": "1.5.0",
            "_model_name": "HTMLModel",
            "_view_count": null,
            "_view_module": "@jupyter-widgets/controls",
            "_view_module_version": "1.5.0",
            "_view_name": "HTMLView",
            "description": "",
            "description_tooltip": null,
            "layout": "IPY_MODEL_965ac20793f94eebb48d286c1a4f5813",
            "placeholder": "​",
            "style": "IPY_MODEL_b42e8647b45e47549170c42cf02f9d64",
            "value": " 289/289 [00:00&lt;00:00, 20.9kB/s]"
          }
        },
        "bfc6914944a94ddfbd5667922d765c38": {
          "model_module": "@jupyter-widgets/base",
          "model_name": "LayoutModel",
          "model_module_version": "1.2.0",
          "state": {
            "_model_module": "@jupyter-widgets/base",
            "_model_module_version": "1.2.0",
            "_model_name": "LayoutModel",
            "_view_count": null,
            "_view_module": "@jupyter-widgets/base",
            "_view_module_version": "1.2.0",
            "_view_name": "LayoutView",
            "align_content": null,
            "align_items": null,
            "align_self": null,
            "border": null,
            "bottom": null,
            "display": null,
            "flex": null,
            "flex_flow": null,
            "grid_area": null,
            "grid_auto_columns": null,
            "grid_auto_flow": null,
            "grid_auto_rows": null,
            "grid_column": null,
            "grid_gap": null,
            "grid_row": null,
            "grid_template_areas": null,
            "grid_template_columns": null,
            "grid_template_rows": null,
            "height": null,
            "justify_content": null,
            "justify_items": null,
            "left": null,
            "margin": null,
            "max_height": null,
            "max_width": null,
            "min_height": null,
            "min_width": null,
            "object_fit": null,
            "object_position": null,
            "order": null,
            "overflow": null,
            "overflow_x": null,
            "overflow_y": null,
            "padding": null,
            "right": null,
            "top": null,
            "visibility": null,
            "width": null
          }
        },
        "fac484409beb41ddb2086a6b49bbcb7b": {
          "model_module": "@jupyter-widgets/base",
          "model_name": "LayoutModel",
          "model_module_version": "1.2.0",
          "state": {
            "_model_module": "@jupyter-widgets/base",
            "_model_module_version": "1.2.0",
            "_model_name": "LayoutModel",
            "_view_count": null,
            "_view_module": "@jupyter-widgets/base",
            "_view_module_version": "1.2.0",
            "_view_name": "LayoutView",
            "align_content": null,
            "align_items": null,
            "align_self": null,
            "border": null,
            "bottom": null,
            "display": null,
            "flex": null,
            "flex_flow": null,
            "grid_area": null,
            "grid_auto_columns": null,
            "grid_auto_flow": null,
            "grid_auto_rows": null,
            "grid_column": null,
            "grid_gap": null,
            "grid_row": null,
            "grid_template_areas": null,
            "grid_template_columns": null,
            "grid_template_rows": null,
            "height": null,
            "justify_content": null,
            "justify_items": null,
            "left": null,
            "margin": null,
            "max_height": null,
            "max_width": null,
            "min_height": null,
            "min_width": null,
            "object_fit": null,
            "object_position": null,
            "order": null,
            "overflow": null,
            "overflow_x": null,
            "overflow_y": null,
            "padding": null,
            "right": null,
            "top": null,
            "visibility": null,
            "width": null
          }
        },
        "184d63dbe57e423e93fa2473fdc6eacd": {
          "model_module": "@jupyter-widgets/controls",
          "model_name": "DescriptionStyleModel",
          "model_module_version": "1.5.0",
          "state": {
            "_model_module": "@jupyter-widgets/controls",
            "_model_module_version": "1.5.0",
            "_model_name": "DescriptionStyleModel",
            "_view_count": null,
            "_view_module": "@jupyter-widgets/base",
            "_view_module_version": "1.2.0",
            "_view_name": "StyleView",
            "description_width": ""
          }
        },
        "c249ecb453c8410b93784189b8fa215b": {
          "model_module": "@jupyter-widgets/base",
          "model_name": "LayoutModel",
          "model_module_version": "1.2.0",
          "state": {
            "_model_module": "@jupyter-widgets/base",
            "_model_module_version": "1.2.0",
            "_model_name": "LayoutModel",
            "_view_count": null,
            "_view_module": "@jupyter-widgets/base",
            "_view_module_version": "1.2.0",
            "_view_name": "LayoutView",
            "align_content": null,
            "align_items": null,
            "align_self": null,
            "border": null,
            "bottom": null,
            "display": null,
            "flex": null,
            "flex_flow": null,
            "grid_area": null,
            "grid_auto_columns": null,
            "grid_auto_flow": null,
            "grid_auto_rows": null,
            "grid_column": null,
            "grid_gap": null,
            "grid_row": null,
            "grid_template_areas": null,
            "grid_template_columns": null,
            "grid_template_rows": null,
            "height": null,
            "justify_content": null,
            "justify_items": null,
            "left": null,
            "margin": null,
            "max_height": null,
            "max_width": null,
            "min_height": null,
            "min_width": null,
            "object_fit": null,
            "object_position": null,
            "order": null,
            "overflow": null,
            "overflow_x": null,
            "overflow_y": null,
            "padding": null,
            "right": null,
            "top": null,
            "visibility": null,
            "width": null
          }
        },
        "67e6483620b34527a31601efff2a0078": {
          "model_module": "@jupyter-widgets/controls",
          "model_name": "ProgressStyleModel",
          "model_module_version": "1.5.0",
          "state": {
            "_model_module": "@jupyter-widgets/controls",
            "_model_module_version": "1.5.0",
            "_model_name": "ProgressStyleModel",
            "_view_count": null,
            "_view_module": "@jupyter-widgets/base",
            "_view_module_version": "1.2.0",
            "_view_name": "StyleView",
            "bar_color": null,
            "description_width": ""
          }
        },
        "965ac20793f94eebb48d286c1a4f5813": {
          "model_module": "@jupyter-widgets/base",
          "model_name": "LayoutModel",
          "model_module_version": "1.2.0",
          "state": {
            "_model_module": "@jupyter-widgets/base",
            "_model_module_version": "1.2.0",
            "_model_name": "LayoutModel",
            "_view_count": null,
            "_view_module": "@jupyter-widgets/base",
            "_view_module_version": "1.2.0",
            "_view_name": "LayoutView",
            "align_content": null,
            "align_items": null,
            "align_self": null,
            "border": null,
            "bottom": null,
            "display": null,
            "flex": null,
            "flex_flow": null,
            "grid_area": null,
            "grid_auto_columns": null,
            "grid_auto_flow": null,
            "grid_auto_rows": null,
            "grid_column": null,
            "grid_gap": null,
            "grid_row": null,
            "grid_template_areas": null,
            "grid_template_columns": null,
            "grid_template_rows": null,
            "height": null,
            "justify_content": null,
            "justify_items": null,
            "left": null,
            "margin": null,
            "max_height": null,
            "max_width": null,
            "min_height": null,
            "min_width": null,
            "object_fit": null,
            "object_position": null,
            "order": null,
            "overflow": null,
            "overflow_x": null,
            "overflow_y": null,
            "padding": null,
            "right": null,
            "top": null,
            "visibility": null,
            "width": null
          }
        },
        "b42e8647b45e47549170c42cf02f9d64": {
          "model_module": "@jupyter-widgets/controls",
          "model_name": "DescriptionStyleModel",
          "model_module_version": "1.5.0",
          "state": {
            "_model_module": "@jupyter-widgets/controls",
            "_model_module_version": "1.5.0",
            "_model_name": "DescriptionStyleModel",
            "_view_count": null,
            "_view_module": "@jupyter-widgets/base",
            "_view_module_version": "1.2.0",
            "_view_name": "StyleView",
            "description_width": ""
          }
        },
        "46c1790f4ff4446b9ec64e90a47c2c5d": {
          "model_module": "@jupyter-widgets/controls",
          "model_name": "HBoxModel",
          "model_module_version": "1.5.0",
          "state": {
            "_dom_classes": [],
            "_model_module": "@jupyter-widgets/controls",
            "_model_module_version": "1.5.0",
            "_model_name": "HBoxModel",
            "_view_count": null,
            "_view_module": "@jupyter-widgets/controls",
            "_view_module_version": "1.5.0",
            "_view_name": "HBoxView",
            "box_style": "",
            "children": [
              "IPY_MODEL_4356d66fb1db4653a2c0c1ebb482a8d8",
              "IPY_MODEL_ef28bed785a8409eacd86f38da48ae9b",
              "IPY_MODEL_ed43cf6c039948ea967c724ebdb2819c"
            ],
            "layout": "IPY_MODEL_e3f57f4b579e4fabbd6564e139b002c4"
          }
        },
        "4356d66fb1db4653a2c0c1ebb482a8d8": {
          "model_module": "@jupyter-widgets/controls",
          "model_name": "HTMLModel",
          "model_module_version": "1.5.0",
          "state": {
            "_dom_classes": [],
            "_model_module": "@jupyter-widgets/controls",
            "_model_module_version": "1.5.0",
            "_model_name": "HTMLModel",
            "_view_count": null,
            "_view_module": "@jupyter-widgets/controls",
            "_view_module_version": "1.5.0",
            "_view_name": "HTMLView",
            "description": "",
            "description_tooltip": null,
            "layout": "IPY_MODEL_5e264d2beae94810acc7de6ed5da917a",
            "placeholder": "​",
            "style": "IPY_MODEL_960111218d974c62b595116ba97e3420",
            "value": "Downloading (…)lve/main/config.json: 100%"
          }
        },
        "ef28bed785a8409eacd86f38da48ae9b": {
          "model_module": "@jupyter-widgets/controls",
          "model_name": "FloatProgressModel",
          "model_module_version": "1.5.0",
          "state": {
            "_dom_classes": [],
            "_model_module": "@jupyter-widgets/controls",
            "_model_module_version": "1.5.0",
            "_model_name": "FloatProgressModel",
            "_view_count": null,
            "_view_module": "@jupyter-widgets/controls",
            "_view_module_version": "1.5.0",
            "_view_name": "ProgressView",
            "bar_style": "success",
            "description": "",
            "description_tooltip": null,
            "layout": "IPY_MODEL_6df9c3875b404ff783611c0e261f8137",
            "max": 425,
            "min": 0,
            "orientation": "horizontal",
            "style": "IPY_MODEL_292ac55cac5f43ea90d75d28ff1cd7dd",
            "value": 425
          }
        },
        "ed43cf6c039948ea967c724ebdb2819c": {
          "model_module": "@jupyter-widgets/controls",
          "model_name": "HTMLModel",
          "model_module_version": "1.5.0",
          "state": {
            "_dom_classes": [],
            "_model_module": "@jupyter-widgets/controls",
            "_model_module_version": "1.5.0",
            "_model_name": "HTMLModel",
            "_view_count": null,
            "_view_module": "@jupyter-widgets/controls",
            "_view_module_version": "1.5.0",
            "_view_name": "HTMLView",
            "description": "",
            "description_tooltip": null,
            "layout": "IPY_MODEL_d26f99a9978c46cfb31dd6ab7264a4bb",
            "placeholder": "​",
            "style": "IPY_MODEL_6ae79a11d7f34a449152fad790657a93",
            "value": " 425/425 [00:00&lt;00:00, 31.1kB/s]"
          }
        },
        "e3f57f4b579e4fabbd6564e139b002c4": {
          "model_module": "@jupyter-widgets/base",
          "model_name": "LayoutModel",
          "model_module_version": "1.2.0",
          "state": {
            "_model_module": "@jupyter-widgets/base",
            "_model_module_version": "1.2.0",
            "_model_name": "LayoutModel",
            "_view_count": null,
            "_view_module": "@jupyter-widgets/base",
            "_view_module_version": "1.2.0",
            "_view_name": "LayoutView",
            "align_content": null,
            "align_items": null,
            "align_self": null,
            "border": null,
            "bottom": null,
            "display": null,
            "flex": null,
            "flex_flow": null,
            "grid_area": null,
            "grid_auto_columns": null,
            "grid_auto_flow": null,
            "grid_auto_rows": null,
            "grid_column": null,
            "grid_gap": null,
            "grid_row": null,
            "grid_template_areas": null,
            "grid_template_columns": null,
            "grid_template_rows": null,
            "height": null,
            "justify_content": null,
            "justify_items": null,
            "left": null,
            "margin": null,
            "max_height": null,
            "max_width": null,
            "min_height": null,
            "min_width": null,
            "object_fit": null,
            "object_position": null,
            "order": null,
            "overflow": null,
            "overflow_x": null,
            "overflow_y": null,
            "padding": null,
            "right": null,
            "top": null,
            "visibility": null,
            "width": null
          }
        },
        "5e264d2beae94810acc7de6ed5da917a": {
          "model_module": "@jupyter-widgets/base",
          "model_name": "LayoutModel",
          "model_module_version": "1.2.0",
          "state": {
            "_model_module": "@jupyter-widgets/base",
            "_model_module_version": "1.2.0",
            "_model_name": "LayoutModel",
            "_view_count": null,
            "_view_module": "@jupyter-widgets/base",
            "_view_module_version": "1.2.0",
            "_view_name": "LayoutView",
            "align_content": null,
            "align_items": null,
            "align_self": null,
            "border": null,
            "bottom": null,
            "display": null,
            "flex": null,
            "flex_flow": null,
            "grid_area": null,
            "grid_auto_columns": null,
            "grid_auto_flow": null,
            "grid_auto_rows": null,
            "grid_column": null,
            "grid_gap": null,
            "grid_row": null,
            "grid_template_areas": null,
            "grid_template_columns": null,
            "grid_template_rows": null,
            "height": null,
            "justify_content": null,
            "justify_items": null,
            "left": null,
            "margin": null,
            "max_height": null,
            "max_width": null,
            "min_height": null,
            "min_width": null,
            "object_fit": null,
            "object_position": null,
            "order": null,
            "overflow": null,
            "overflow_x": null,
            "overflow_y": null,
            "padding": null,
            "right": null,
            "top": null,
            "visibility": null,
            "width": null
          }
        },
        "960111218d974c62b595116ba97e3420": {
          "model_module": "@jupyter-widgets/controls",
          "model_name": "DescriptionStyleModel",
          "model_module_version": "1.5.0",
          "state": {
            "_model_module": "@jupyter-widgets/controls",
            "_model_module_version": "1.5.0",
            "_model_name": "DescriptionStyleModel",
            "_view_count": null,
            "_view_module": "@jupyter-widgets/base",
            "_view_module_version": "1.2.0",
            "_view_name": "StyleView",
            "description_width": ""
          }
        },
        "6df9c3875b404ff783611c0e261f8137": {
          "model_module": "@jupyter-widgets/base",
          "model_name": "LayoutModel",
          "model_module_version": "1.2.0",
          "state": {
            "_model_module": "@jupyter-widgets/base",
            "_model_module_version": "1.2.0",
            "_model_name": "LayoutModel",
            "_view_count": null,
            "_view_module": "@jupyter-widgets/base",
            "_view_module_version": "1.2.0",
            "_view_name": "LayoutView",
            "align_content": null,
            "align_items": null,
            "align_self": null,
            "border": null,
            "bottom": null,
            "display": null,
            "flex": null,
            "flex_flow": null,
            "grid_area": null,
            "grid_auto_columns": null,
            "grid_auto_flow": null,
            "grid_auto_rows": null,
            "grid_column": null,
            "grid_gap": null,
            "grid_row": null,
            "grid_template_areas": null,
            "grid_template_columns": null,
            "grid_template_rows": null,
            "height": null,
            "justify_content": null,
            "justify_items": null,
            "left": null,
            "margin": null,
            "max_height": null,
            "max_width": null,
            "min_height": null,
            "min_width": null,
            "object_fit": null,
            "object_position": null,
            "order": null,
            "overflow": null,
            "overflow_x": null,
            "overflow_y": null,
            "padding": null,
            "right": null,
            "top": null,
            "visibility": null,
            "width": null
          }
        },
        "292ac55cac5f43ea90d75d28ff1cd7dd": {
          "model_module": "@jupyter-widgets/controls",
          "model_name": "ProgressStyleModel",
          "model_module_version": "1.5.0",
          "state": {
            "_model_module": "@jupyter-widgets/controls",
            "_model_module_version": "1.5.0",
            "_model_name": "ProgressStyleModel",
            "_view_count": null,
            "_view_module": "@jupyter-widgets/base",
            "_view_module_version": "1.2.0",
            "_view_name": "StyleView",
            "bar_color": null,
            "description_width": ""
          }
        },
        "d26f99a9978c46cfb31dd6ab7264a4bb": {
          "model_module": "@jupyter-widgets/base",
          "model_name": "LayoutModel",
          "model_module_version": "1.2.0",
          "state": {
            "_model_module": "@jupyter-widgets/base",
            "_model_module_version": "1.2.0",
            "_model_name": "LayoutModel",
            "_view_count": null,
            "_view_module": "@jupyter-widgets/base",
            "_view_module_version": "1.2.0",
            "_view_name": "LayoutView",
            "align_content": null,
            "align_items": null,
            "align_self": null,
            "border": null,
            "bottom": null,
            "display": null,
            "flex": null,
            "flex_flow": null,
            "grid_area": null,
            "grid_auto_columns": null,
            "grid_auto_flow": null,
            "grid_auto_rows": null,
            "grid_column": null,
            "grid_gap": null,
            "grid_row": null,
            "grid_template_areas": null,
            "grid_template_columns": null,
            "grid_template_rows": null,
            "height": null,
            "justify_content": null,
            "justify_items": null,
            "left": null,
            "margin": null,
            "max_height": null,
            "max_width": null,
            "min_height": null,
            "min_width": null,
            "object_fit": null,
            "object_position": null,
            "order": null,
            "overflow": null,
            "overflow_x": null,
            "overflow_y": null,
            "padding": null,
            "right": null,
            "top": null,
            "visibility": null,
            "width": null
          }
        },
        "6ae79a11d7f34a449152fad790657a93": {
          "model_module": "@jupyter-widgets/controls",
          "model_name": "DescriptionStyleModel",
          "model_module_version": "1.5.0",
          "state": {
            "_model_module": "@jupyter-widgets/controls",
            "_model_module_version": "1.5.0",
            "_model_name": "DescriptionStyleModel",
            "_view_count": null,
            "_view_module": "@jupyter-widgets/base",
            "_view_module_version": "1.2.0",
            "_view_name": "StyleView",
            "description_width": ""
          }
        }
      }
    }
  },
  "cells": [
    {
      "cell_type": "code",
      "execution_count": null,
      "metadata": {
        "id": "X9jiKPqCFPQo"
      },
      "outputs": [],
      "source": [
        "! pip install transformers\n",
        "! pip install seqeval"
      ]
    },
    {
      "cell_type": "markdown",
      "source": [
        "# 1. Load Data"
      ],
      "metadata": {
        "id": "ENFW3dr2FaCy"
      }
    },
    {
      "cell_type": "code",
      "source": [
        "import pandas as pd\n",
        "import numpy as np\n",
        "import os\n",
        "from tqdm import tqdm\n",
        "from transformers import shape_list, BertTokenizer, TFBertModel\n",
        "from tensorflow.keras.callbacks import EarlyStopping\n",
        "from tensorflow.keras.preprocessing.sequence import pad_sequences\n",
        "from seqeval.metrics import f1_score, classification_report\n",
        "import tensorflow as tf\n",
        "import urllib.request"
      ],
      "metadata": {
        "id": "piDPRGzdFcAG"
      },
      "execution_count": 2,
      "outputs": []
    },
    {
      "cell_type": "markdown",
      "source": [
        "* Bring train and test data, and labels"
      ],
      "metadata": {
        "id": "zpxyx1JcFf7q"
      }
    },
    {
      "cell_type": "code",
      "source": [
        "urllib.request.urlretrieve(\"https://raw.githubusercontent.com/ukairia777/tensorflow-nlp-tutorial/main/18.%20Fine-tuning%20BERT%20(Cls%2C%20NER%2C%20NLI)/dataset/ner_train_data.csv\", filename=\"ner_train_data.csv\")\n",
        "urllib.request.urlretrieve(\"https://raw.githubusercontent.com/ukairia777/tensorflow-nlp-tutorial/main/18.%20Fine-tuning%20BERT%20(Cls%2C%20NER%2C%20NLI)/dataset/ner_test_data.csv\", filename=\"ner_test_data.csv\")\n",
        "urllib.request.urlretrieve(\"https://raw.githubusercontent.com/ukairia777/tensorflow-nlp-tutorial/main/18.%20Fine-tuning%20BERT%20(Cls%2C%20NER%2C%20NLI)/dataset/ner_label.txt\", filename=\"ner_label.txt\")"
      ],
      "metadata": {
        "colab": {
          "base_uri": "https://localhost:8080/"
        },
        "id": "Re_hYS0NFq9b",
        "outputId": "d83777f7-7a3a-4c82-ba7f-a48dc61b5f33"
      },
      "execution_count": 3,
      "outputs": [
        {
          "output_type": "execute_result",
          "data": {
            "text/plain": [
              "('ner_label.txt', <http.client.HTTPMessage at 0x7f7f4e32e910>)"
            ]
          },
          "metadata": {},
          "execution_count": 3
        }
      ]
    },
    {
      "cell_type": "code",
      "source": [
        "train_ner_df = pd.read_csv(\"ner_train_data.csv\")"
      ],
      "metadata": {
        "id": "KkcogetLFyie"
      },
      "execution_count": 4,
      "outputs": []
    },
    {
      "cell_type": "code",
      "source": [
        "test_ner_df = pd.read_csv(\"ner_test_data.csv\")"
      ],
      "metadata": {
        "id": "DFCy4TfGGiCl"
      },
      "execution_count": 5,
      "outputs": []
    },
    {
      "cell_type": "code",
      "source": [
        "train_ner_df.head()"
      ],
      "metadata": {
        "colab": {
          "base_uri": "https://localhost:8080/",
          "height": 206
        },
        "id": "KNCQmyoTGlYS",
        "outputId": "d7a3ab1c-03af-48dd-d121-e5d5e0be1609"
      },
      "execution_count": 6,
      "outputs": [
        {
          "output_type": "execute_result",
          "data": {
            "text/plain": [
              "                                            Sentence  \\\n",
              "0                      정은 씨를 힘들게 한 가스나그, 가만둘 수 없겠죠 .   \n",
              "1                          ▶ 쿠마리 한동수가 말하는 '가넷 & 에르덴'   \n",
              "2                    슈나이더의 프레젠테이션은 말 청중을 위한 특별한 쇼다 .   \n",
              "3  지구 최대 연료탱크 수검 회사 구글이 연내 22명 안팎의 인력을 갖춘 연구개발(R&...   \n",
              "4  5. <10:00:TI_HOUR> 도이치증권대 <0:1:QT_SPORTS> 연예오락...   \n",
              "\n",
              "                                                 Tag  \n",
              "0                              PER-B O O O O O O O O  \n",
              "1                      O PER-B PER-I O PER-B O PER-B  \n",
              "2                            PER-B O O CVL-B O O O O  \n",
              "3  O O TRM-B O O ORG-B DAT-B NUM-B O O O ORG-B LO...  \n",
              "4                              NUM-B O ORG-B O ORG-B  "
            ],
            "text/html": [
              "\n",
              "  <div id=\"df-fc0d9c02-46db-488d-ba38-6c3a8ef5da92\">\n",
              "    <div class=\"colab-df-container\">\n",
              "      <div>\n",
              "<style scoped>\n",
              "    .dataframe tbody tr th:only-of-type {\n",
              "        vertical-align: middle;\n",
              "    }\n",
              "\n",
              "    .dataframe tbody tr th {\n",
              "        vertical-align: top;\n",
              "    }\n",
              "\n",
              "    .dataframe thead th {\n",
              "        text-align: right;\n",
              "    }\n",
              "</style>\n",
              "<table border=\"1\" class=\"dataframe\">\n",
              "  <thead>\n",
              "    <tr style=\"text-align: right;\">\n",
              "      <th></th>\n",
              "      <th>Sentence</th>\n",
              "      <th>Tag</th>\n",
              "    </tr>\n",
              "  </thead>\n",
              "  <tbody>\n",
              "    <tr>\n",
              "      <th>0</th>\n",
              "      <td>정은 씨를 힘들게 한 가스나그, 가만둘 수 없겠죠 .</td>\n",
              "      <td>PER-B O O O O O O O O</td>\n",
              "    </tr>\n",
              "    <tr>\n",
              "      <th>1</th>\n",
              "      <td>▶ 쿠마리 한동수가 말하는 '가넷 &amp; 에르덴'</td>\n",
              "      <td>O PER-B PER-I O PER-B O PER-B</td>\n",
              "    </tr>\n",
              "    <tr>\n",
              "      <th>2</th>\n",
              "      <td>슈나이더의 프레젠테이션은 말 청중을 위한 특별한 쇼다 .</td>\n",
              "      <td>PER-B O O CVL-B O O O O</td>\n",
              "    </tr>\n",
              "    <tr>\n",
              "      <th>3</th>\n",
              "      <td>지구 최대 연료탱크 수검 회사 구글이 연내 22명 안팎의 인력을 갖춘 연구개발(R&amp;...</td>\n",
              "      <td>O O TRM-B O O ORG-B DAT-B NUM-B O O O ORG-B LO...</td>\n",
              "    </tr>\n",
              "    <tr>\n",
              "      <th>4</th>\n",
              "      <td>5. &lt;10:00:TI_HOUR&gt; 도이치증권대 &lt;0:1:QT_SPORTS&gt; 연예오락...</td>\n",
              "      <td>NUM-B O ORG-B O ORG-B</td>\n",
              "    </tr>\n",
              "  </tbody>\n",
              "</table>\n",
              "</div>\n",
              "      <button class=\"colab-df-convert\" onclick=\"convertToInteractive('df-fc0d9c02-46db-488d-ba38-6c3a8ef5da92')\"\n",
              "              title=\"Convert this dataframe to an interactive table.\"\n",
              "              style=\"display:none;\">\n",
              "        \n",
              "  <svg xmlns=\"http://www.w3.org/2000/svg\" height=\"24px\"viewBox=\"0 0 24 24\"\n",
              "       width=\"24px\">\n",
              "    <path d=\"M0 0h24v24H0V0z\" fill=\"none\"/>\n",
              "    <path d=\"M18.56 5.44l.94 2.06.94-2.06 2.06-.94-2.06-.94-.94-2.06-.94 2.06-2.06.94zm-11 1L8.5 8.5l.94-2.06 2.06-.94-2.06-.94L8.5 2.5l-.94 2.06-2.06.94zm10 10l.94 2.06.94-2.06 2.06-.94-2.06-.94-.94-2.06-.94 2.06-2.06.94z\"/><path d=\"M17.41 7.96l-1.37-1.37c-.4-.4-.92-.59-1.43-.59-.52 0-1.04.2-1.43.59L10.3 9.45l-7.72 7.72c-.78.78-.78 2.05 0 2.83L4 21.41c.39.39.9.59 1.41.59.51 0 1.02-.2 1.41-.59l7.78-7.78 2.81-2.81c.8-.78.8-2.07 0-2.86zM5.41 20L4 18.59l7.72-7.72 1.47 1.35L5.41 20z\"/>\n",
              "  </svg>\n",
              "      </button>\n",
              "      \n",
              "  <style>\n",
              "    .colab-df-container {\n",
              "      display:flex;\n",
              "      flex-wrap:wrap;\n",
              "      gap: 12px;\n",
              "    }\n",
              "\n",
              "    .colab-df-convert {\n",
              "      background-color: #E8F0FE;\n",
              "      border: none;\n",
              "      border-radius: 50%;\n",
              "      cursor: pointer;\n",
              "      display: none;\n",
              "      fill: #1967D2;\n",
              "      height: 32px;\n",
              "      padding: 0 0 0 0;\n",
              "      width: 32px;\n",
              "    }\n",
              "\n",
              "    .colab-df-convert:hover {\n",
              "      background-color: #E2EBFA;\n",
              "      box-shadow: 0px 1px 2px rgba(60, 64, 67, 0.3), 0px 1px 3px 1px rgba(60, 64, 67, 0.15);\n",
              "      fill: #174EA6;\n",
              "    }\n",
              "\n",
              "    [theme=dark] .colab-df-convert {\n",
              "      background-color: #3B4455;\n",
              "      fill: #D2E3FC;\n",
              "    }\n",
              "\n",
              "    [theme=dark] .colab-df-convert:hover {\n",
              "      background-color: #434B5C;\n",
              "      box-shadow: 0px 1px 3px 1px rgba(0, 0, 0, 0.15);\n",
              "      filter: drop-shadow(0px 1px 2px rgba(0, 0, 0, 0.3));\n",
              "      fill: #FFFFFF;\n",
              "    }\n",
              "  </style>\n",
              "\n",
              "      <script>\n",
              "        const buttonEl =\n",
              "          document.querySelector('#df-fc0d9c02-46db-488d-ba38-6c3a8ef5da92 button.colab-df-convert');\n",
              "        buttonEl.style.display =\n",
              "          google.colab.kernel.accessAllowed ? 'block' : 'none';\n",
              "\n",
              "        async function convertToInteractive(key) {\n",
              "          const element = document.querySelector('#df-fc0d9c02-46db-488d-ba38-6c3a8ef5da92');\n",
              "          const dataTable =\n",
              "            await google.colab.kernel.invokeFunction('convertToInteractive',\n",
              "                                                     [key], {});\n",
              "          if (!dataTable) return;\n",
              "\n",
              "          const docLinkHtml = 'Like what you see? Visit the ' +\n",
              "            '<a target=\"_blank\" href=https://colab.research.google.com/notebooks/data_table.ipynb>data table notebook</a>'\n",
              "            + ' to learn more about interactive tables.';\n",
              "          element.innerHTML = '';\n",
              "          dataTable['output_type'] = 'display_data';\n",
              "          await google.colab.output.renderOutput(dataTable, element);\n",
              "          const docLink = document.createElement('div');\n",
              "          docLink.innerHTML = docLinkHtml;\n",
              "          element.appendChild(docLink);\n",
              "        }\n",
              "      </script>\n",
              "    </div>\n",
              "  </div>\n",
              "  "
            ]
          },
          "metadata": {},
          "execution_count": 6
        }
      ]
    },
    {
      "cell_type": "code",
      "source": [
        "test_ner_df.head()"
      ],
      "metadata": {
        "colab": {
          "base_uri": "https://localhost:8080/",
          "height": 206
        },
        "id": "oRRX5lB4Gm0c",
        "outputId": "06f5ae40-c2e9-4bfd-9850-3d4e2694777a"
      },
      "execution_count": 7,
      "outputs": [
        {
          "output_type": "execute_result",
          "data": {
            "text/plain": [
              "                                            Sentence  \\\n",
              "0                             라티은-원윤정, 휘닉스파크클래식 프로골퍼   \n",
              "1  5원으로 맺어진 애인까지 돈이라는 민감한 원자재를 통해 현대인의 물질만능주의를 꼬집...   \n",
              "2                        -날로 삼키면 맛이 어떤지 일차 드셔보시겠어요 .   \n",
              "3                                        -네, 지었습니다 .   \n",
              "4  ◇신규 투자촉진에 방점=이번 접속료 조정결과에서 눈에 띄는 지점은 WCDMA/HSD...   \n",
              "\n",
              "                                                 Tag  \n",
              "0                                  PER-B EVT-B CVL-B  \n",
              "1                NUM-B O O O O O O O O O O O FLD-B O  \n",
              "2                                  O O O O NUM-B O O  \n",
              "3                                              O O O  \n",
              "4  O O O O O O O O TRM-B O TRM-B TRM-I ORG-B O TR...  "
            ],
            "text/html": [
              "\n",
              "  <div id=\"df-4156b674-df74-4768-a0c2-7c9a6eafeb76\">\n",
              "    <div class=\"colab-df-container\">\n",
              "      <div>\n",
              "<style scoped>\n",
              "    .dataframe tbody tr th:only-of-type {\n",
              "        vertical-align: middle;\n",
              "    }\n",
              "\n",
              "    .dataframe tbody tr th {\n",
              "        vertical-align: top;\n",
              "    }\n",
              "\n",
              "    .dataframe thead th {\n",
              "        text-align: right;\n",
              "    }\n",
              "</style>\n",
              "<table border=\"1\" class=\"dataframe\">\n",
              "  <thead>\n",
              "    <tr style=\"text-align: right;\">\n",
              "      <th></th>\n",
              "      <th>Sentence</th>\n",
              "      <th>Tag</th>\n",
              "    </tr>\n",
              "  </thead>\n",
              "  <tbody>\n",
              "    <tr>\n",
              "      <th>0</th>\n",
              "      <td>라티은-원윤정, 휘닉스파크클래식 프로골퍼</td>\n",
              "      <td>PER-B EVT-B CVL-B</td>\n",
              "    </tr>\n",
              "    <tr>\n",
              "      <th>1</th>\n",
              "      <td>5원으로 맺어진 애인까지 돈이라는 민감한 원자재를 통해 현대인의 물질만능주의를 꼬집...</td>\n",
              "      <td>NUM-B O O O O O O O O O O O FLD-B O</td>\n",
              "    </tr>\n",
              "    <tr>\n",
              "      <th>2</th>\n",
              "      <td>-날로 삼키면 맛이 어떤지 일차 드셔보시겠어요 .</td>\n",
              "      <td>O O O O NUM-B O O</td>\n",
              "    </tr>\n",
              "    <tr>\n",
              "      <th>3</th>\n",
              "      <td>-네, 지었습니다 .</td>\n",
              "      <td>O O O</td>\n",
              "    </tr>\n",
              "    <tr>\n",
              "      <th>4</th>\n",
              "      <td>◇신규 투자촉진에 방점=이번 접속료 조정결과에서 눈에 띄는 지점은 WCDMA/HSD...</td>\n",
              "      <td>O O O O O O O O TRM-B O TRM-B TRM-I ORG-B O TR...</td>\n",
              "    </tr>\n",
              "  </tbody>\n",
              "</table>\n",
              "</div>\n",
              "      <button class=\"colab-df-convert\" onclick=\"convertToInteractive('df-4156b674-df74-4768-a0c2-7c9a6eafeb76')\"\n",
              "              title=\"Convert this dataframe to an interactive table.\"\n",
              "              style=\"display:none;\">\n",
              "        \n",
              "  <svg xmlns=\"http://www.w3.org/2000/svg\" height=\"24px\"viewBox=\"0 0 24 24\"\n",
              "       width=\"24px\">\n",
              "    <path d=\"M0 0h24v24H0V0z\" fill=\"none\"/>\n",
              "    <path d=\"M18.56 5.44l.94 2.06.94-2.06 2.06-.94-2.06-.94-.94-2.06-.94 2.06-2.06.94zm-11 1L8.5 8.5l.94-2.06 2.06-.94-2.06-.94L8.5 2.5l-.94 2.06-2.06.94zm10 10l.94 2.06.94-2.06 2.06-.94-2.06-.94-.94-2.06-.94 2.06-2.06.94z\"/><path d=\"M17.41 7.96l-1.37-1.37c-.4-.4-.92-.59-1.43-.59-.52 0-1.04.2-1.43.59L10.3 9.45l-7.72 7.72c-.78.78-.78 2.05 0 2.83L4 21.41c.39.39.9.59 1.41.59.51 0 1.02-.2 1.41-.59l7.78-7.78 2.81-2.81c.8-.78.8-2.07 0-2.86zM5.41 20L4 18.59l7.72-7.72 1.47 1.35L5.41 20z\"/>\n",
              "  </svg>\n",
              "      </button>\n",
              "      \n",
              "  <style>\n",
              "    .colab-df-container {\n",
              "      display:flex;\n",
              "      flex-wrap:wrap;\n",
              "      gap: 12px;\n",
              "    }\n",
              "\n",
              "    .colab-df-convert {\n",
              "      background-color: #E8F0FE;\n",
              "      border: none;\n",
              "      border-radius: 50%;\n",
              "      cursor: pointer;\n",
              "      display: none;\n",
              "      fill: #1967D2;\n",
              "      height: 32px;\n",
              "      padding: 0 0 0 0;\n",
              "      width: 32px;\n",
              "    }\n",
              "\n",
              "    .colab-df-convert:hover {\n",
              "      background-color: #E2EBFA;\n",
              "      box-shadow: 0px 1px 2px rgba(60, 64, 67, 0.3), 0px 1px 3px 1px rgba(60, 64, 67, 0.15);\n",
              "      fill: #174EA6;\n",
              "    }\n",
              "\n",
              "    [theme=dark] .colab-df-convert {\n",
              "      background-color: #3B4455;\n",
              "      fill: #D2E3FC;\n",
              "    }\n",
              "\n",
              "    [theme=dark] .colab-df-convert:hover {\n",
              "      background-color: #434B5C;\n",
              "      box-shadow: 0px 1px 3px 1px rgba(0, 0, 0, 0.15);\n",
              "      filter: drop-shadow(0px 1px 2px rgba(0, 0, 0, 0.3));\n",
              "      fill: #FFFFFF;\n",
              "    }\n",
              "  </style>\n",
              "\n",
              "      <script>\n",
              "        const buttonEl =\n",
              "          document.querySelector('#df-4156b674-df74-4768-a0c2-7c9a6eafeb76 button.colab-df-convert');\n",
              "        buttonEl.style.display =\n",
              "          google.colab.kernel.accessAllowed ? 'block' : 'none';\n",
              "\n",
              "        async function convertToInteractive(key) {\n",
              "          const element = document.querySelector('#df-4156b674-df74-4768-a0c2-7c9a6eafeb76');\n",
              "          const dataTable =\n",
              "            await google.colab.kernel.invokeFunction('convertToInteractive',\n",
              "                                                     [key], {});\n",
              "          if (!dataTable) return;\n",
              "\n",
              "          const docLinkHtml = 'Like what you see? Visit the ' +\n",
              "            '<a target=\"_blank\" href=https://colab.research.google.com/notebooks/data_table.ipynb>data table notebook</a>'\n",
              "            + ' to learn more about interactive tables.';\n",
              "          element.innerHTML = '';\n",
              "          dataTable['output_type'] = 'display_data';\n",
              "          await google.colab.output.renderOutput(dataTable, element);\n",
              "          const docLink = document.createElement('div');\n",
              "          docLink.innerHTML = docLinkHtml;\n",
              "          element.appendChild(docLink);\n",
              "        }\n",
              "      </script>\n",
              "    </div>\n",
              "  </div>\n",
              "  "
            ]
          },
          "metadata": {},
          "execution_count": 7
        }
      ]
    },
    {
      "cell_type": "code",
      "source": [
        "print(\"Number of Training Sample :\", len(train_ner_df))\n",
        "print(\"Number of Test Sample :\", len(test_ner_df))"
      ],
      "metadata": {
        "colab": {
          "base_uri": "https://localhost:8080/"
        },
        "id": "Q4eXbi7-Gnpu",
        "outputId": "a2e699d2-663b-452f-d9e3-567ac6867dd4"
      },
      "execution_count": 8,
      "outputs": [
        {
          "output_type": "stream",
          "name": "stdout",
          "text": [
            "Number of Training Sample : 81000\n",
            "Number of Test Sample : 9000\n"
          ]
        }
      ]
    },
    {
      "cell_type": "markdown",
      "source": [
        "* Separate sentences and labels in traning and test dataset"
      ],
      "metadata": {
        "id": "ifhLS6jsG0Iv"
      }
    },
    {
      "cell_type": "code",
      "source": [
        "train_data_sentence = [sent.split() for sent in train_ner_df['Sentence'].values]\n",
        "test_data_sentence = [sent.split() for sent in test_ner_df['Sentence'].values]\n",
        "train_data_label = [tag.split() for tag in train_ner_df['Tag'].values]\n",
        "test_data_label = [tag.split() for tag in test_ner_df['Tag'].values]"
      ],
      "metadata": {
        "id": "qtwMRqsdG8n4"
      },
      "execution_count": 9,
      "outputs": []
    },
    {
      "cell_type": "markdown",
      "source": [
        "* Arbitrary Sampling a sentence and label"
      ],
      "metadata": {
        "id": "hmxOdJmlHJsV"
      }
    },
    {
      "cell_type": "code",
      "source": [
        "print(train_data_sentence[2])\n",
        "print(train_data_label[2])"
      ],
      "metadata": {
        "colab": {
          "base_uri": "https://localhost:8080/"
        },
        "id": "fIuFuckvHQC0",
        "outputId": "7127b40c-86a3-4561-f9a3-f04bd4e1d7be"
      },
      "execution_count": 10,
      "outputs": [
        {
          "output_type": "stream",
          "name": "stdout",
          "text": [
            "['슈나이더의', '프레젠테이션은', '말', '청중을', '위한', '특별한', '쇼다', '.']\n",
            "['PER-B', 'O', 'O', 'CVL-B', 'O', 'O', 'O', 'O']\n"
          ]
        }
      ]
    },
    {
      "cell_type": "markdown",
      "source": [
        "* Labels are tagged based on white-space divisions\n",
        "* Read 'ner_label.txt' and check information on tagging"
      ],
      "metadata": {
        "id": "CuoPcNODHTM9"
      }
    },
    {
      "cell_type": "code",
      "source": [
        "labels = [label.strip() for label in open('ner_label.txt', 'r', encoding='utf-8')]\n",
        "print('Entity taggings :', labels)"
      ],
      "metadata": {
        "colab": {
          "base_uri": "https://localhost:8080/"
        },
        "id": "9upRwtV5HuM_",
        "outputId": "a14b56ef-699e-409d-8df7-8e9e8e3ec41d"
      },
      "execution_count": 11,
      "outputs": [
        {
          "output_type": "stream",
          "name": "stdout",
          "text": [
            "Entity taggings : ['O', 'PER-B', 'PER-I', 'FLD-B', 'FLD-I', 'AFW-B', 'AFW-I', 'ORG-B', 'ORG-I', 'LOC-B', 'LOC-I', 'CVL-B', 'CVL-I', 'DAT-B', 'DAT-I', 'TIM-B', 'TIM-I', 'NUM-B', 'NUM-I', 'EVT-B', 'EVT-I', 'ANM-B', 'ANM-I', 'PLT-B', 'PLT-I', 'MAT-B', 'MAT-I', 'TRM-B', 'TRM-I']\n"
          ]
        }
      ]
    },
    {
      "cell_type": "code",
      "source": [
        "tag_to_index = {tag: index for index, tag in enumerate(labels)}\n",
        "index_to_tag = {index: tag for index, tag in enumerate(labels)}"
      ],
      "metadata": {
        "id": "gfEJ4iSOH3dG"
      },
      "execution_count": 12,
      "outputs": []
    },
    {
      "cell_type": "code",
      "source": [
        "print(tag_to_index)\n",
        "print(index_to_tag)"
      ],
      "metadata": {
        "colab": {
          "base_uri": "https://localhost:8080/"
        },
        "id": "XXh4BFgKIN81",
        "outputId": "ca653ea2-aff1-4430-a15e-6b30198a45d3"
      },
      "execution_count": 13,
      "outputs": [
        {
          "output_type": "stream",
          "name": "stdout",
          "text": [
            "{'O': 0, 'PER-B': 1, 'PER-I': 2, 'FLD-B': 3, 'FLD-I': 4, 'AFW-B': 5, 'AFW-I': 6, 'ORG-B': 7, 'ORG-I': 8, 'LOC-B': 9, 'LOC-I': 10, 'CVL-B': 11, 'CVL-I': 12, 'DAT-B': 13, 'DAT-I': 14, 'TIM-B': 15, 'TIM-I': 16, 'NUM-B': 17, 'NUM-I': 18, 'EVT-B': 19, 'EVT-I': 20, 'ANM-B': 21, 'ANM-I': 22, 'PLT-B': 23, 'PLT-I': 24, 'MAT-B': 25, 'MAT-I': 26, 'TRM-B': 27, 'TRM-I': 28}\n",
            "{0: 'O', 1: 'PER-B', 2: 'PER-I', 3: 'FLD-B', 4: 'FLD-I', 5: 'AFW-B', 6: 'AFW-I', 7: 'ORG-B', 8: 'ORG-I', 9: 'LOC-B', 10: 'LOC-I', 11: 'CVL-B', 12: 'CVL-I', 13: 'DAT-B', 14: 'DAT-I', 15: 'TIM-B', 16: 'TIM-I', 17: 'NUM-B', 18: 'NUM-I', 19: 'EVT-B', 20: 'EVT-I', 21: 'ANM-B', 22: 'ANM-I', 23: 'PLT-B', 24: 'PLT-I', 25: 'MAT-B', 26: 'MAT-I', 27: 'TRM-B', 28: 'TRM-I'}\n"
          ]
        }
      ]
    },
    {
      "cell_type": "code",
      "source": [
        "tag_size = len(tag_to_index)\n",
        "print(\"Tag Size :\", tag_size)"
      ],
      "metadata": {
        "colab": {
          "base_uri": "https://localhost:8080/"
        },
        "id": "4REOYU7hIQ2w",
        "outputId": "bd0ef4a6-a192-4564-b4fd-449f27ac4938"
      },
      "execution_count": 14,
      "outputs": [
        {
          "output_type": "stream",
          "name": "stdout",
          "text": [
            "Tag Size : 29\n"
          ]
        }
      ]
    },
    {
      "cell_type": "markdown",
      "source": [
        "# 2. Understanding Preprocessing"
      ],
      "metadata": {
        "id": "eq741PfzIXRM"
      }
    },
    {
      "cell_type": "code",
      "source": [
        "tokenizer = BertTokenizer.from_pretrained('klue/bert-base')"
      ],
      "metadata": {
        "colab": {
          "base_uri": "https://localhost:8080/",
          "height": 145,
          "referenced_widgets": [
            "6bf510fa066f43c29dd59ad914161ed6",
            "841332ffcd574e4ea873697c21133640",
            "226c325676b445b5843d516eeb7848e5",
            "f233d06299ea43d29e63bdad9432f25b",
            "a62fde28c0ef4d61a2f647156813099c",
            "f240a0a6dbf546bc94dcef452f139475",
            "d7b8951da6304c1c891754a7d94c4974",
            "42e9a946fd1c4c44a50de0c89d4212f4",
            "fa60ba1f0dfe48dc9fad3addd89d768b",
            "04507d65d4764f1583856b41f80b8b4a",
            "dcb545ec769b48a7b20198263bf0d597",
            "b51ac0d6383049699b7c0653764db4d4",
            "a6b563d249b04a8c90081b08eb7f9623",
            "2e75c44edbe44908a922b4c58be2d794",
            "cca99772a51640b7a1162a55dd17fc6b",
            "45cdcbf06a9d4187aabe1006d9f683fa",
            "5ee82cece144420fbf1e9ea22abbc95f",
            "ed8c62ae5704406bbb7581f455fa66a1",
            "f74ef3ad3ce0465785a04f9412bdf2bc",
            "81a21572ad51406da84ec977d935d37a",
            "008d39a183dc42d4961a2644e98b4c41",
            "b1aec3229e814c158a5d4dda70676652",
            "68800547aa214d39bbbdda955030b55e",
            "33a81ce931244b3f99a2321927236ae9",
            "3d8dbc1bd0ac4abfa9837b16923b3aab",
            "17fda93619004ded91c526894ce373a2",
            "bfc6914944a94ddfbd5667922d765c38",
            "fac484409beb41ddb2086a6b49bbcb7b",
            "184d63dbe57e423e93fa2473fdc6eacd",
            "c249ecb453c8410b93784189b8fa215b",
            "67e6483620b34527a31601efff2a0078",
            "965ac20793f94eebb48d286c1a4f5813",
            "b42e8647b45e47549170c42cf02f9d64",
            "46c1790f4ff4446b9ec64e90a47c2c5d",
            "4356d66fb1db4653a2c0c1ebb482a8d8",
            "ef28bed785a8409eacd86f38da48ae9b",
            "ed43cf6c039948ea967c724ebdb2819c",
            "e3f57f4b579e4fabbd6564e139b002c4",
            "5e264d2beae94810acc7de6ed5da917a",
            "960111218d974c62b595116ba97e3420",
            "6df9c3875b404ff783611c0e261f8137",
            "292ac55cac5f43ea90d75d28ff1cd7dd",
            "d26f99a9978c46cfb31dd6ab7264a4bb",
            "6ae79a11d7f34a449152fad790657a93"
          ]
        },
        "id": "e1Te0qc5IZaS",
        "outputId": "1f052441-afc9-4d84-c5cd-ab8eca8c8695"
      },
      "execution_count": 15,
      "outputs": [
        {
          "output_type": "display_data",
          "data": {
            "text/plain": [
              "Downloading (…)solve/main/vocab.txt:   0%|          | 0.00/248k [00:00<?, ?B/s]"
            ],
            "application/vnd.jupyter.widget-view+json": {
              "version_major": 2,
              "version_minor": 0,
              "model_id": "6bf510fa066f43c29dd59ad914161ed6"
            }
          },
          "metadata": {}
        },
        {
          "output_type": "display_data",
          "data": {
            "text/plain": [
              "Downloading (…)cial_tokens_map.json:   0%|          | 0.00/125 [00:00<?, ?B/s]"
            ],
            "application/vnd.jupyter.widget-view+json": {
              "version_major": 2,
              "version_minor": 0,
              "model_id": "b51ac0d6383049699b7c0653764db4d4"
            }
          },
          "metadata": {}
        },
        {
          "output_type": "display_data",
          "data": {
            "text/plain": [
              "Downloading (…)okenizer_config.json:   0%|          | 0.00/289 [00:00<?, ?B/s]"
            ],
            "application/vnd.jupyter.widget-view+json": {
              "version_major": 2,
              "version_minor": 0,
              "model_id": "68800547aa214d39bbbdda955030b55e"
            }
          },
          "metadata": {}
        },
        {
          "output_type": "display_data",
          "data": {
            "text/plain": [
              "Downloading (…)lve/main/config.json:   0%|          | 0.00/425 [00:00<?, ?B/s]"
            ],
            "application/vnd.jupyter.widget-view+json": {
              "version_major": 2,
              "version_minor": 0,
              "model_id": "46c1790f4ff4446b9ec64e90a47c2c5d"
            }
          },
          "metadata": {}
        }
      ]
    },
    {
      "cell_type": "markdown",
      "source": [
        "* Sample a sentence and label and process it\n",
        "* Which will help understanding pre-processing process"
      ],
      "metadata": {
        "id": "HvFUSMv2Ie5s"
      }
    },
    {
      "cell_type": "code",
      "source": [
        "sent = train_data_sentence[1]\n",
        "label = train_data_label[1]\n",
        "\n",
        "print(\"Sentence :\", sent)\n",
        "print(\"Label :\", label)\n",
        "print(\"Integer encoding of label\", [tag_to_index[idx] for idx in label])\n",
        "print(\"Length of sentence\", len(sent))\n",
        "print(\"Length of Label\", len(label))"
      ],
      "metadata": {
        "colab": {
          "base_uri": "https://localhost:8080/"
        },
        "id": "MTvyczDdIoV-",
        "outputId": "bbb53dc5-4648-4229-e2f9-4c9bae30b8a3"
      },
      "execution_count": 16,
      "outputs": [
        {
          "output_type": "stream",
          "name": "stdout",
          "text": [
            "Sentence : ['▶', '쿠마리', '한동수가', '말하는', \"'가넷\", '&', \"에르덴'\"]\n",
            "Label : ['O', 'PER-B', 'PER-I', 'O', 'PER-B', 'O', 'PER-B']\n",
            "Integer encoding of label [0, 1, 2, 0, 1, 0, 1]\n",
            "Length of sentence 7\n",
            "Length of Label 7\n"
          ]
        }
      ]
    },
    {
      "cell_type": "markdown",
      "source": [
        "* With the sampled data, understand the process of BERT Tokenizer. \n",
        "* For sentences with word-level tokenization, we need to apply sub-word tokenization first"
      ],
      "metadata": {
        "id": "kqu0oaULI86a"
      }
    },
    {
      "cell_type": "code",
      "source": [
        "tokens = []\n",
        "\n",
        "for one_word in sent:\n",
        "    # Separate a word into subwords\n",
        "    # ex) one_word = 'embeddings' ===> subword_tokens = ['embed', '##ing', '##s']\n",
        "    subword_tokens = tokenizer.tokenize(one_word)\n",
        "    tokens.extend(subword_tokens)\n",
        "\n",
        "print(\"Sentence after BERT Tokenize :\", tokens)\n",
        "print(\"Label\", label)\n",
        "print(\"Integer Encoding :\", [tag_to_index[idx] for idx in label])\n",
        "print(\"Sentence Length :\", len(tokens))\n",
        "print(\"Label Length :\", len(label))"
      ],
      "metadata": {
        "colab": {
          "base_uri": "https://localhost:8080/"
        },
        "id": "ZpDyWKRnJVgI",
        "outputId": "5bc09119-d3df-4a45-ef9b-2b2abbca7702"
      },
      "execution_count": 17,
      "outputs": [
        {
          "output_type": "stream",
          "name": "stdout",
          "text": [
            "Sentence after BERT Tokenize : ['▶', '쿠', '##마리', '한동', '##수', '##가', '말', '##하', '##는', \"'\", '가', '##넷', '&', '에르', '##덴', \"'\"]\n",
            "Label ['O', 'PER-B', 'PER-I', 'O', 'PER-B', 'O', 'PER-B']\n",
            "Integer Encoding : [0, 1, 2, 0, 1, 0, 1]\n",
            "Sentence Length : 16\n",
            "Label Length : 7\n"
          ]
        }
      ]
    },
    {
      "cell_type": "markdown",
      "source": [
        "* Now, we can see that the length of label and that of sentence become vary as we adopted subword tokenizer\n",
        "* We need to match both lengths. What can be done?\n",
        "    * Assign label only to the first subword as give -100\n",
        "    * This will be treated in same manner as with padding token\n",
        "    * token with -100 will be ignored in loss function also"
      ],
      "metadata": {
        "id": "ftkRmjzOJw_c"
      }
    },
    {
      "cell_type": "code",
      "source": [
        "tokens = []\n",
        "labels_ids = []\n",
        "\n",
        "for one_word, label_token in zip(train_data_sentence[1], train_data_label[1]):\n",
        "    subword_tokens = tokenizer.tokenize(one_word)\n",
        "    tokens.extend(subword_tokens)\n",
        "    # 1st for-loop: label_1 label_2 -100\n",
        "    # 2nd for-loop: label_1 label_2 -100 label_3 l1bel_4 -100 ...\n",
        "    # 3rd ...\n",
        "    labels_ids.extend([tag_to_index[label_token]] + [-100] * (len(subword_tokens) - 1))\n",
        "\n",
        "print(\"Sentence tokenized :\", tokens)\n",
        "print(\"Label :\", ['[PAD]' if idx == -100 else index_to_tag[idx] for idx in labels_ids])\n",
        "print(\"Integer Encoding of Label :\", labels_ids)\n",
        "print(\"Sentence Length :\", len(tokens))\n",
        "print(\"Label Length :\", len(labels_ids))"
      ],
      "metadata": {
        "colab": {
          "base_uri": "https://localhost:8080/"
        },
        "id": "NTBxJxukLZ98",
        "outputId": "cf04b63c-a129-472c-ab75-ac1ed9726c08"
      },
      "execution_count": 18,
      "outputs": [
        {
          "output_type": "stream",
          "name": "stdout",
          "text": [
            "Sentence tokenized : ['▶', '쿠', '##마리', '한동', '##수', '##가', '말', '##하', '##는', \"'\", '가', '##넷', '&', '에르', '##덴', \"'\"]\n",
            "Label : ['O', 'PER-B', '[PAD]', 'PER-I', '[PAD]', '[PAD]', 'O', '[PAD]', '[PAD]', 'PER-B', '[PAD]', '[PAD]', 'O', 'PER-B', '[PAD]', '[PAD]']\n",
            "Integer Encoding of Label : [0, 1, -100, 2, -100, -100, 0, -100, -100, 1, -100, -100, 0, 1, -100, -100]\n",
            "Sentence Length : 16\n",
            "Label Length : 16\n"
          ]
        }
      ]
    },
    {
      "cell_type": "markdown",
      "source": [
        "# Pre-processing"
      ],
      "metadata": {
        "id": "AV-83PXVNrXn"
      }
    },
    {
      "cell_type": "code",
      "source": [
        "def convert_examples_to_features(examples, labels, max_seq_len, tokenizer, \n",
        "                                 pad_token_id_for_segment=0, \n",
        "                                 pad_token_id_for_label=-100):\n",
        "    cls_token = tokenizer.cls_token\n",
        "    sep_token = tokenizer.sep_token\n",
        "    pad_token_id = tokenizer.pad_token_id\n",
        "\n",
        "    input_ids, attention_masks, token_type_ids, data_labels = [], [], [], []\n",
        "\n",
        "    for example, label in tqdm(zip(examples, labels), total=len(examples)):\n",
        "        tokens = []\n",
        "        labels_ids = []\n",
        "        for one_word, label_token in zip(example, label):\n",
        "            # Subword tokenize for each word\n",
        "            subword_tokens = tokenizer.tokenize(one_word)\n",
        "            tokens.extend(subword_tokens)\n",
        "            # Assign entity label only to the first subword, do -100 to others\n",
        "            labels_ids.extend([tag_to_index[label_token]] + \n",
        "                              [pad_token_id_for_label] * (len(subword_tokens) - 1))\n",
        "            \n",
        "        # Considering that we will add [CLS] and [SEP], \n",
        "        # Truncate sample with length over max_seq_len to (max_seq_len - 2)\n",
        "        special_tokens_count = 2\n",
        "        if len(tokens) > max_seq_len - special_tokens_count:\n",
        "            tokens = tokens[:(max_seq_len - special_tokens_count)]\n",
        "            labels_ids = labels_ids[:(max_seq_len - special_tokens_count)]\n",
        "        \n",
        "        # Code for adding [SEP]\n",
        "        # 1. Add [SEP] at the end of sequence\n",
        "        # 2. Same for labels\n",
        "        tokens += [sep_token]\n",
        "        labels_ids += [pad_token_id_for_label]\n",
        "\n",
        "        # Code for adding [CLS]\n",
        "        # 1. Add [CLS] at the commece of sequence\n",
        "        # 2. Same for labels\n",
        "\n",
        "        tokens = [cls_token] + tokens\n",
        "        labels_ids = [pad_token_id_for_label] + labels_ids\n",
        "\n",
        "        # Integer Encoding\n",
        "        input_id = tokenizer.convert_tokens_to_ids(tokens)\n",
        "\n",
        "        # Attention Mask\n",
        "        attention_mask = [1] * len(input_id)\n",
        "\n",
        "        # Calc padding length for integer encoding\n",
        "        padding_count = max_seq_len - len(input_id)\n",
        "\n",
        "        # Pad to integer encoding and attention mask\n",
        "        input_id = input_id + ([pad_token_id] * padding_count)\n",
        "        attention_mask = attention_mask + ([0] * padding_count)\n",
        "\n",
        "        # Segment encoding\n",
        "        token_type_id = [pad_token_id_for_segment] * max_seq_len\n",
        "\n",
        "        # Pad Labels (Idx of padding token is -100)\n",
        "        label = labels_ids + ([pad_token_id_for_label] * padding_count)\n",
        "\n",
        "        assert len(input_id) == max_seq_len, \"Error with input length {} vs {}\".format(len(input_id), max_seq_len)\n",
        "        assert len(attention_mask) == max_seq_len, \"Error with input length {} vs {}\".format(len(attention_mask), max_seq_len)\n",
        "        assert len(token_type_id) == max_seq_len, \"Error with input length {} vs {}\".format(len(token_type_id), max_seq_len)\n",
        "        assert len(label) == max_seq_len, \"Error with input length {} vs {}\".format(len(label), max_seq_len)\n",
        "\n",
        "        input_ids.append(input_id)\n",
        "        attention_masks.append(attention_mask)\n",
        "        token_type_ids.append(token_type_id)\n",
        "        data_labels.append(label)\n",
        "\n",
        "    input_ids = np.asarray(input_ids, dtype=int)\n",
        "    attention_masks = np.asarray(attention_masks, dtype=int)\n",
        "    token_type_ids = np.asarray(token_type_ids, dtype=int)\n",
        "    data_labels = np.asarray(data_labels, dtype=int)\n",
        "\n",
        "    return (input_ids, attention_masks, token_type_ids), data_labels\n"
      ],
      "metadata": {
        "id": "uK28-YCpN2sE"
      },
      "execution_count": 19,
      "outputs": []
    },
    {
      "cell_type": "code",
      "source": [
        "X_train, y_train = convert_examples_to_features(train_data_sentence, train_data_label, max_seq_len=128, tokenizer=tokenizer)\n",
        "X_test, y_test = convert_examples_to_features(test_data_sentence, test_data_label, max_seq_len=128, tokenizer=tokenizer)"
      ],
      "metadata": {
        "colab": {
          "base_uri": "https://localhost:8080/"
        },
        "id": "LKo15lMFSJdd",
        "outputId": "8017712b-94f0-467e-885c-6e9f22d73a1b"
      },
      "execution_count": 20,
      "outputs": [
        {
          "output_type": "stream",
          "name": "stderr",
          "text": [
            "100%|██████████| 81000/81000 [00:42<00:00, 1887.64it/s]\n",
            "100%|██████████| 9000/9000 [00:04<00:00, 1907.80it/s]\n"
          ]
        }
      ]
    },
    {
      "cell_type": "code",
      "source": [
        "print('Original Sentence :', train_data_label[0])\n",
        "print('-' * 50)\n",
        "print('Tokenized Sentence :', [tokenizer.decode([word]) for word in X_train[0][0]])\n",
        "print('Label after Tokenization :', ['[PAD]' if idx == -100 else index_to_tag[idx] for idx in y_train[0]])\n",
        "print('-' * 50)\n",
        "print('Integer Encoding :', X_train[0][0])\n",
        "print('Integer Encoded Label :', y_train[0])"
      ],
      "metadata": {
        "colab": {
          "base_uri": "https://localhost:8080/"
        },
        "id": "JSIHSokCUenQ",
        "outputId": "cdef394a-5259-4ae5-a0e6-c05ef8822a38"
      },
      "execution_count": 21,
      "outputs": [
        {
          "output_type": "stream",
          "name": "stdout",
          "text": [
            "Original Sentence : ['PER-B', 'O', 'O', 'O', 'O', 'O', 'O', 'O', 'O']\n",
            "--------------------------------------------------\n",
            "Tokenized Sentence : ['[CLS]', '정은', '씨', '##를', '힘들', '##게', '한', '가스', '##나', '##그', ',', '가만', '##둘', '수', '없', '##겠', '##죠', '.', '[SEP]', '[PAD]', '[PAD]', '[PAD]', '[PAD]', '[PAD]', '[PAD]', '[PAD]', '[PAD]', '[PAD]', '[PAD]', '[PAD]', '[PAD]', '[PAD]', '[PAD]', '[PAD]', '[PAD]', '[PAD]', '[PAD]', '[PAD]', '[PAD]', '[PAD]', '[PAD]', '[PAD]', '[PAD]', '[PAD]', '[PAD]', '[PAD]', '[PAD]', '[PAD]', '[PAD]', '[PAD]', '[PAD]', '[PAD]', '[PAD]', '[PAD]', '[PAD]', '[PAD]', '[PAD]', '[PAD]', '[PAD]', '[PAD]', '[PAD]', '[PAD]', '[PAD]', '[PAD]', '[PAD]', '[PAD]', '[PAD]', '[PAD]', '[PAD]', '[PAD]', '[PAD]', '[PAD]', '[PAD]', '[PAD]', '[PAD]', '[PAD]', '[PAD]', '[PAD]', '[PAD]', '[PAD]', '[PAD]', '[PAD]', '[PAD]', '[PAD]', '[PAD]', '[PAD]', '[PAD]', '[PAD]', '[PAD]', '[PAD]', '[PAD]', '[PAD]', '[PAD]', '[PAD]', '[PAD]', '[PAD]', '[PAD]', '[PAD]', '[PAD]', '[PAD]', '[PAD]', '[PAD]', '[PAD]', '[PAD]', '[PAD]', '[PAD]', '[PAD]', '[PAD]', '[PAD]', '[PAD]', '[PAD]', '[PAD]', '[PAD]', '[PAD]', '[PAD]', '[PAD]', '[PAD]', '[PAD]', '[PAD]', '[PAD]', '[PAD]', '[PAD]', '[PAD]', '[PAD]', '[PAD]', '[PAD]', '[PAD]', '[PAD]']\n",
            "Label after Tokenization : ['[PAD]', 'PER-B', 'O', '[PAD]', 'O', '[PAD]', 'O', 'O', '[PAD]', '[PAD]', '[PAD]', 'O', '[PAD]', 'O', 'O', '[PAD]', '[PAD]', 'O', '[PAD]', '[PAD]', '[PAD]', '[PAD]', '[PAD]', '[PAD]', '[PAD]', '[PAD]', '[PAD]', '[PAD]', '[PAD]', '[PAD]', '[PAD]', '[PAD]', '[PAD]', '[PAD]', '[PAD]', '[PAD]', '[PAD]', '[PAD]', '[PAD]', '[PAD]', '[PAD]', '[PAD]', '[PAD]', '[PAD]', '[PAD]', '[PAD]', '[PAD]', '[PAD]', '[PAD]', '[PAD]', '[PAD]', '[PAD]', '[PAD]', '[PAD]', '[PAD]', '[PAD]', '[PAD]', '[PAD]', '[PAD]', '[PAD]', '[PAD]', '[PAD]', '[PAD]', '[PAD]', '[PAD]', '[PAD]', '[PAD]', '[PAD]', '[PAD]', '[PAD]', '[PAD]', '[PAD]', '[PAD]', '[PAD]', '[PAD]', '[PAD]', '[PAD]', '[PAD]', '[PAD]', '[PAD]', '[PAD]', '[PAD]', '[PAD]', '[PAD]', '[PAD]', '[PAD]', '[PAD]', '[PAD]', '[PAD]', '[PAD]', '[PAD]', '[PAD]', '[PAD]', '[PAD]', '[PAD]', '[PAD]', '[PAD]', '[PAD]', '[PAD]', '[PAD]', '[PAD]', '[PAD]', '[PAD]', '[PAD]', '[PAD]', '[PAD]', '[PAD]', '[PAD]', '[PAD]', '[PAD]', '[PAD]', '[PAD]', '[PAD]', '[PAD]', '[PAD]', '[PAD]', '[PAD]', '[PAD]', '[PAD]', '[PAD]', '[PAD]', '[PAD]', '[PAD]', '[PAD]', '[PAD]', '[PAD]', '[PAD]', '[PAD]']\n",
            "--------------------------------------------------\n",
            "Integer Encoding : [    2 17915  1370  2138  4390  2318  1891  5809  2075  2029    16  6836\n",
            "  3056  1295  1415  2918  2321    18     3     0     0     0     0     0\n",
            "     0     0     0     0     0     0     0     0     0     0     0     0\n",
            "     0     0     0     0     0     0     0     0     0     0     0     0\n",
            "     0     0     0     0     0     0     0     0     0     0     0     0\n",
            "     0     0     0     0     0     0     0     0     0     0     0     0\n",
            "     0     0     0     0     0     0     0     0     0     0     0     0\n",
            "     0     0     0     0     0     0     0     0     0     0     0     0\n",
            "     0     0     0     0     0     0     0     0     0     0     0     0\n",
            "     0     0     0     0     0     0     0     0     0     0     0     0\n",
            "     0     0     0     0     0     0     0     0]\n",
            "Integer Encoded Label : [-100    1    0 -100    0 -100    0    0 -100 -100 -100    0 -100    0\n",
            "    0 -100 -100    0 -100 -100 -100 -100 -100 -100 -100 -100 -100 -100\n",
            " -100 -100 -100 -100 -100 -100 -100 -100 -100 -100 -100 -100 -100 -100\n",
            " -100 -100 -100 -100 -100 -100 -100 -100 -100 -100 -100 -100 -100 -100\n",
            " -100 -100 -100 -100 -100 -100 -100 -100 -100 -100 -100 -100 -100 -100\n",
            " -100 -100 -100 -100 -100 -100 -100 -100 -100 -100 -100 -100 -100 -100\n",
            " -100 -100 -100 -100 -100 -100 -100 -100 -100 -100 -100 -100 -100 -100\n",
            " -100 -100 -100 -100 -100 -100 -100 -100 -100 -100 -100 -100 -100 -100\n",
            " -100 -100 -100 -100 -100 -100 -100 -100 -100 -100 -100 -100 -100 -100\n",
            " -100 -100]\n"
          ]
        }
      ]
    },
    {
      "cell_type": "markdown",
      "source": [
        "* In NER, we don't need to discern two sentences\n",
        "    * Thus all segment encodings will have same value of 0\n",
        "\n",
        "* In case of Attention Mask, Assign 1 from [CLS] to [SEP] and Assign 0 to [PAD]"
      ],
      "metadata": {
        "id": "vZ-av-csWdIz"
      }
    },
    {
      "cell_type": "code",
      "source": [
        "print(\"Segment Encoding :\", X_train[2][0])\n",
        "print(\"Attention Mask :\", X_train[1][0])"
      ],
      "metadata": {
        "colab": {
          "base_uri": "https://localhost:8080/"
        },
        "id": "BycCqNUhVmx2",
        "outputId": "3df5fdaa-89dc-4fe6-c9a8-995d9a48d75a"
      },
      "execution_count": 22,
      "outputs": [
        {
          "output_type": "stream",
          "name": "stdout",
          "text": [
            "Segment Encoding : [0 0 0 0 0 0 0 0 0 0 0 0 0 0 0 0 0 0 0 0 0 0 0 0 0 0 0 0 0 0 0 0 0 0 0 0 0\n",
            " 0 0 0 0 0 0 0 0 0 0 0 0 0 0 0 0 0 0 0 0 0 0 0 0 0 0 0 0 0 0 0 0 0 0 0 0 0\n",
            " 0 0 0 0 0 0 0 0 0 0 0 0 0 0 0 0 0 0 0 0 0 0 0 0 0 0 0 0 0 0 0 0 0 0 0 0 0\n",
            " 0 0 0 0 0 0 0 0 0 0 0 0 0 0 0 0 0]\n",
            "Attention Mask : [1 1 1 1 1 1 1 1 1 1 1 1 1 1 1 1 1 1 1 0 0 0 0 0 0 0 0 0 0 0 0 0 0 0 0 0 0\n",
            " 0 0 0 0 0 0 0 0 0 0 0 0 0 0 0 0 0 0 0 0 0 0 0 0 0 0 0 0 0 0 0 0 0 0 0 0 0\n",
            " 0 0 0 0 0 0 0 0 0 0 0 0 0 0 0 0 0 0 0 0 0 0 0 0 0 0 0 0 0 0 0 0 0 0 0 0 0\n",
            " 0 0 0 0 0 0 0 0 0 0 0 0 0 0 0 0 0]\n"
          ]
        }
      ]
    },
    {
      "cell_type": "markdown",
      "source": [
        "# Modeling"
      ],
      "metadata": {
        "id": "Y8tHgHJ1WZpp"
      }
    },
    {
      "cell_type": "markdown",
      "source": [
        "* output[1] is a way to approach to [CLS] token, which used for Many-to-One like Text Classification\n",
        "* NER is Many-to-Many, so we need to access outputs[0]\n",
        "* Pass over num_layers to output layer connected with outputs[0]. \n",
        "* Intentionally won't use softmax in output layer. Instead, loss function will handle this "
      ],
      "metadata": {
        "id": "ScJ_hek-W8gN"
      }
    },
    {
      "cell_type": "code",
      "source": [
        "class TFBertForTokenClassification(tf.keras.Model):\n",
        "    def __init__(self, model_name, num_labels):\n",
        "        super(TFBertForTokenClassification, self).__init__()\n",
        "        self.bert = TFBertModel.from_pretrained(model_name, from_pt=True)\n",
        "        self.classifier = tf.keras.layers.Dense(num_labels,\n",
        "                                                kernel_initializer=tf.keras.initializers.TruncatedNormal(0.02),\n",
        "                                                name='classifier')\n",
        "    \n",
        "    def call(self, inputs):\n",
        "        input_ids, attention_mask, token_type_ids = inputs\n",
        "        outputs = self.bert(input_ids=input_ids, attention_mask=attention_mask, token_type_ids=token_type_ids)\n",
        "\n",
        "        # Make sure outputs[0] in order to classify entire sequence\n",
        "        all_output = outputs[0]\n",
        "        prediction = self.classifier(all_output)\n",
        "\n",
        "        return prediction"
      ],
      "metadata": {
        "id": "KiVUkWPtXjpt"
      },
      "execution_count": 23,
      "outputs": []
    },
    {
      "cell_type": "markdown",
      "source": [
        "# Exclude -100 labels in Loss Function (Example)"
      ],
      "metadata": {
        "id": "veOgr7beYXSu"
      }
    },
    {
      "cell_type": "markdown",
      "source": [
        "* -100 is an encoding for label, which we want to ignore when calculating loss \n",
        "* Let's assume that logits is predicted value of a model (3-dimensional probability distribution after softmax function, so sum to 1)"
      ],
      "metadata": {
        "id": "OyE-e1sYYdut"
      }
    },
    {
      "cell_type": "code",
      "source": [
        "labels = tf.constant([[-100, 2, 1, -100]])\n",
        "logits = tf.constant([[ [0.8, 0.1, 0.1], \n",
        "                        [0.06, 0.04, 0.9],\n",
        "                        [0.75, 0.1, 0.15],\n",
        "                        [0.4, 0.5, 0.1] ]])"
      ],
      "metadata": {
        "id": "5d9Xl-LRzgPJ"
      },
      "execution_count": 24,
      "outputs": []
    },
    {
      "cell_type": "markdown",
      "source": [
        "* active_loss returns False when a label is -100, True otherwise"
      ],
      "metadata": {
        "id": "YUK7QSzP0RQl"
      }
    },
    {
      "cell_type": "code",
      "source": [
        "active_loss = tf.reshape(labels, (-1)) != -100\n",
        "print(active_loss)"
      ],
      "metadata": {
        "colab": {
          "base_uri": "https://localhost:8080/"
        },
        "id": "wVs8QF-fz8Mu",
        "outputId": "4357edf9-a1cb-417d-b496-d84b1764c768"
      },
      "execution_count": 25,
      "outputs": [
        {
          "output_type": "stream",
          "name": "stdout",
          "text": [
            "tf.Tensor([False  True  True False], shape=(4,), dtype=bool)\n"
          ]
        }
      ]
    },
    {
      "cell_type": "markdown",
      "source": [
        "* Remain values that are not -100"
      ],
      "metadata": {
        "id": "YDuAMloo31nU"
      }
    },
    {
      "cell_type": "code",
      "source": [
        "reduced_logits = tf.boolean_mask(tf.reshape(logits, (-1, shape_list(logits)[2])), active_loss)\n",
        "print(reduced_logits)"
      ],
      "metadata": {
        "colab": {
          "base_uri": "https://localhost:8080/"
        },
        "id": "TLhdOJz53lqQ",
        "outputId": "622d9d05-3fd8-4acf-d482-39c1bcd13f85"
      },
      "execution_count": 26,
      "outputs": [
        {
          "output_type": "stream",
          "name": "stdout",
          "text": [
            "tf.Tensor(\n",
            "[[0.06 0.04 0.9 ]\n",
            " [0.75 0.1  0.15]], shape=(2, 3), dtype=float32)\n"
          ]
        }
      ]
    },
    {
      "cell_type": "markdown",
      "source": [
        "* Do same thing on labels"
      ],
      "metadata": {
        "id": "8QHktj3g4fkI"
      }
    },
    {
      "cell_type": "code",
      "source": [
        "labels = tf.boolean_mask(tf.reshape(labels, (-1)), active_loss)\n",
        "print(labels)"
      ],
      "metadata": {
        "colab": {
          "base_uri": "https://localhost:8080/"
        },
        "id": "iLMRY75Y4jLa",
        "outputId": "b08954bc-06ba-426d-8cfb-18b4fc4c9087"
      },
      "execution_count": 27,
      "outputs": [
        {
          "output_type": "stream",
          "name": "stdout",
          "text": [
            "tf.Tensor([2 1], shape=(2,), dtype=int32)\n"
          ]
        }
      ]
    },
    {
      "cell_type": "markdown",
      "source": [
        "# Define Loss Fuction\n",
        "\n",
        "* As a loss function, Use SparseCategoricalCrossentropy for multi-label classification\n",
        "* We didn't use softmax fuction in our output layer of TFBertForTokenClassification. Thus the sum of a vector is not 1. \n",
        "* In this case, if we set 'from_logits=True', SparseCategoricalCrossentropy calculates loss considering that.  "
      ],
      "metadata": {
        "id": "BBZWBDDw4tsm"
      }
    },
    {
      "cell_type": "code",
      "source": [
        "def compute_loss(labels, logits):\n",
        "\n",
        "    # When we don't use softmax in multiclass classification, \n",
        "    # Set from_logit = True\n",
        "\n",
        "    loss_fn = tf.keras.losses.SparseCategoricalCrossentropy(\n",
        "        from_logits=True, reduction=tf.keras.losses.Reduction.NONE)\n",
        "    \n",
        "    # revises labels to not reflect loss for label with -100 \n",
        "    active_loss = tf.reshape(labels, (-1,)) != -100\n",
        "\n",
        "    # Get reduced_logits and labels from active_loss\n",
        "    reduced_logits = tf.boolean_mask(tf.reshape(logits, (-1, shape_list(logits)[2])), active_loss)\n",
        "    labels = tf.boolean_mask(tf.reshape(labels, (-1,)), active_loss)\n",
        "\n",
        "    return loss_fn(labels, reduced_logits)\n",
        "\n",
        "# def compute_loss(labels, logits):\n",
        "#     # 다중 클래스 분류 문제에서 소프트맥스 함수 미사용 시 from_logits=True로 설정\n",
        "#     loss_fn = tf.keras.losses.SparseCategoricalCrossentropy(from_logits=True,\n",
        "#                                                             reduction=tf.keras.losses.Reduction.NONE)\n",
        "#     # -100의 값을 가진 정수에 대해서는 오차를 반영하지 않도록 labels를 수정.\n",
        "#     active_loss = tf.reshape(labels, (-1,)) != -100\n",
        "\n",
        "#     # activa_loss 로 부 터 reduced_logits 과 labels 를 각 각 얻 는 다 .\n",
        "#     reduced_logits = tf.boolean_mask(tf.reshape(logits, (-1, shape_list(logits)[2])), active_loss)\n",
        "#     labels = tf.boolean_mask(tf.reshape(labels, (-1,)), active_loss) 13\n",
        "#     return loss_fn(labels, reduced_logits)"
      ],
      "metadata": {
        "id": "s20tWpak41kd"
      },
      "execution_count": 38,
      "outputs": []
    },
    {
      "cell_type": "markdown",
      "source": [
        "# Learning / Fitting"
      ],
      "metadata": {
        "id": "oZCiBylN52pp"
      }
    },
    {
      "cell_type": "code",
      "source": [
        "#######################\n",
        "# Code for TPU\n",
        "resolver = tf.distribute.cluster_resolver.TPUClusterResolver(tpu='grpc://' + os.environ['COLAB_TPU_ADDR'])\n",
        "tf.config.experimental_connect_to_cluster(resolver)\n",
        "tf.tpu.experimental.initialize_tpu_system(resolver)\n",
        "\n",
        "strategy = tf.distribute.experimental.TPUStrategy(resolver)\n",
        "\n",
        "with strategy.scope():\n",
        "#######################\n",
        "    model = TFBertForTokenClassification(\"klue/bert-base\", num_labels=tag_size)\n",
        "    optimizer = tf.keras.optimizers.Adam(learning_rate=5e-5)\n",
        "    model.compile(optimizer=optimizer, loss=compute_loss)    "
      ],
      "metadata": {
        "colab": {
          "base_uri": "https://localhost:8080/"
        },
        "id": "IlUqaapX8C2n",
        "outputId": "0de1c104-0f5f-4326-f2dc-00614d084de2"
      },
      "execution_count": 39,
      "outputs": [
        {
          "output_type": "stream",
          "name": "stderr",
          "text": [
            "WARNING:tensorflow:TPU system grpc://10.24.151.82:8470 has already been initialized. Reinitializing the TPU can cause previously created variables on TPU to be lost.\n",
            "WARNING:absl:`tf.distribute.experimental.TPUStrategy` is deprecated, please use  the non experimental symbol `tf.distribute.TPUStrategy` instead.\n",
            "Some weights of the PyTorch model were not used when initializing the TF 2.0 model TFBertModel: ['cls.predictions.transform.LayerNorm.weight', 'cls.predictions.transform.dense.bias', 'cls.predictions.decoder.weight', 'cls.predictions.transform.dense.weight', 'cls.seq_relationship.weight', 'cls.predictions.bias', 'cls.seq_relationship.bias', 'bert.embeddings.position_ids', 'cls.predictions.transform.LayerNorm.bias', 'cls.predictions.decoder.bias']\n",
            "- This IS expected if you are initializing TFBertModel from a PyTorch model trained on another task or with another architecture (e.g. initializing a TFBertForSequenceClassification model from a BertForPreTraining model).\n",
            "- This IS NOT expected if you are initializing TFBertModel from a PyTorch model that you expect to be exactly identical (e.g. initializing a TFBertForSequenceClassification model from a BertForSequenceClassification model).\n",
            "All the weights of TFBertModel were initialized from the PyTorch model.\n",
            "If your task is similar to the task the model of the checkpoint was trained on, you can already use TFBertModel for predictions without further training.\n"
          ]
        }
      ]
    },
    {
      "cell_type": "code",
      "source": [
        "class F1score(tf.keras.callbacks.Callback):\n",
        "    def __init__(self, X_test, y_test):\n",
        "        self.X_test = X_test\n",
        "        self.y_test = y_test\n",
        "    \n",
        "    def sequences_to_tags(self, label_ids, pred_ids):\n",
        "        label_list = []\n",
        "        pred_list = []\n",
        "\n",
        "        for i in range(0, len(label_ids)):\n",
        "            label_tag = []\n",
        "            pred_tag = []\n",
        "\n",
        "            # If the value of a lbel is -100, don't calc F1 score\n",
        "            # ex) label decoding process\n",
        "            # label_index : [1 -100 2 -100] ===> [1 2] ===> label_tag : [PER-B PER-I]\n",
        "\n",
        "            for label_index, pred_index in zip(label_ids[i], pred_ids[i]):\n",
        "                if label_index != -100:\n",
        "                    label_tag.append(index_to_tag[label_index])\n",
        "                    pred_tag.append(index_to_tag[pred_index])\n",
        "            \n",
        "            label_list.append(label_tag)\n",
        "            pred_list.append(pred_tag)\n",
        "        \n",
        "        return label_list, pred_list\n",
        "    \n",
        "    def on_epoch_end(self, epoch, logs={}):\n",
        "\n",
        "        y_predicted = self.model.predict(self.X_test)\n",
        "        y_predicted = np.argmax(y_predicted, axis = 2)\n",
        "\n",
        "        label_list, pred_list = self.sequences_to_tags(self.y_test, y_predicted)\n",
        "\n",
        "        score = f1_score(label_list, pred_list, suffix=True)\n",
        "        print('  - f1: {:04.2f}'.format(score * 100))\n",
        "        print(classification_report(label_list, pred_list, suffix=True))"
      ],
      "metadata": {
        "id": "57UhKmZv84De"
      },
      "execution_count": 42,
      "outputs": []
    },
    {
      "cell_type": "code",
      "source": [
        "f1_score_report = F1score(X_test, y_test)\n",
        "model.fit(\n",
        "    X_train, y_train, \n",
        "    epochs=3, batch_size=32,\n",
        "    callbacks = [f1_score_report])"
      ],
      "metadata": {
        "colab": {
          "base_uri": "https://localhost:8080/"
        },
        "id": "KKDUaEs-AbBt",
        "outputId": "73e5a8c0-5574-400e-b4d3-f584cdade595"
      },
      "execution_count": 43,
      "outputs": [
        {
          "output_type": "stream",
          "name": "stdout",
          "text": [
            "Epoch 1/3\n",
            "   6/2532 [..............................] - ETA: 2:58 - loss: 0.1554"
          ]
        },
        {
          "output_type": "stream",
          "name": "stderr",
          "text": [
            "WARNING:tensorflow:Callback method `on_train_batch_end` is slow compared to the batch time (batch time: 0.0047s vs `on_train_batch_end` time: 0.0715s). Check your callbacks.\n"
          ]
        },
        {
          "output_type": "stream",
          "name": "stdout",
          "text": [
            "282/282 [==============================] - 6s 19ms/step\n",
            "  - f1: 86.11\n",
            "              precision    recall  f1-score   support\n",
            "\n",
            "         AFW       0.72      0.57      0.64       394\n",
            "         ANM       0.72      0.79      0.75       701\n",
            "         CVL       0.82      0.86      0.84      5758\n",
            "         DAT       0.92      0.92      0.92      2521\n",
            "         EVT       0.73      0.79      0.76      1094\n",
            "         FLD       0.68      0.57      0.62       228\n",
            "         LOC       0.87      0.86      0.86      2126\n",
            "         MAT       0.33      0.08      0.13        12\n",
            "         NUM       0.90      0.93      0.92      5590\n",
            "         ORG       0.87      0.88      0.87      4086\n",
            "         PER       0.89      0.90      0.89      4426\n",
            "         PLT       0.67      0.29      0.41        34\n",
            "         TIM       0.86      0.88      0.87       314\n",
            "         TRM       0.80      0.72      0.76      1964\n",
            "\n",
            "   micro avg       0.86      0.87      0.86     29248\n",
            "   macro avg       0.77      0.72      0.73     29248\n",
            "weighted avg       0.86      0.87      0.86     29248\n",
            "\n",
            "2532/2532 [==============================] - 188s 74ms/step - loss: 0.1527\n",
            "Epoch 2/3\n",
            "282/282 [==============================] - 6s 20ms/step\n",
            "  - f1: 86.32\n",
            "              precision    recall  f1-score   support\n",
            "\n",
            "         AFW       0.70      0.64      0.67       394\n",
            "         ANM       0.76      0.76      0.76       701\n",
            "         CVL       0.82      0.86      0.84      5758\n",
            "         DAT       0.92      0.93      0.92      2521\n",
            "         EVT       0.78      0.77      0.78      1094\n",
            "         FLD       0.72      0.57      0.64       228\n",
            "         LOC       0.89      0.84      0.86      2126\n",
            "         MAT       0.33      0.25      0.29        12\n",
            "         NUM       0.91      0.92      0.92      5590\n",
            "         ORG       0.86      0.90      0.88      4086\n",
            "         PER       0.90      0.89      0.89      4426\n",
            "         PLT       0.67      0.29      0.41        34\n",
            "         TIM       0.87      0.92      0.89       314\n",
            "         TRM       0.76      0.74      0.75      1964\n",
            "\n",
            "   micro avg       0.86      0.87      0.86     29248\n",
            "   macro avg       0.78      0.73      0.75     29248\n",
            "weighted avg       0.86      0.87      0.86     29248\n",
            "\n",
            "2532/2532 [==============================] - 189s 74ms/step - loss: 0.1010\n",
            "Epoch 3/3\n",
            "282/282 [==============================] - 6s 20ms/step\n",
            "  - f1: 86.30\n",
            "              precision    recall  f1-score   support\n",
            "\n",
            "         AFW       0.65      0.66      0.65       394\n",
            "         ANM       0.73      0.81      0.76       701\n",
            "         CVL       0.83      0.86      0.84      5758\n",
            "         DAT       0.91      0.93      0.92      2521\n",
            "         EVT       0.76      0.78      0.77      1094\n",
            "         FLD       0.76      0.56      0.65       228\n",
            "         LOC       0.87      0.85      0.86      2126\n",
            "         MAT       0.27      0.25      0.26        12\n",
            "         NUM       0.90      0.93      0.92      5590\n",
            "         ORG       0.90      0.87      0.88      4086\n",
            "         PER       0.87      0.91      0.89      4426\n",
            "         PLT       0.42      0.32      0.37        34\n",
            "         TIM       0.86      0.91      0.89       314\n",
            "         TRM       0.80      0.71      0.75      1964\n",
            "\n",
            "   micro avg       0.86      0.87      0.86     29248\n",
            "   macro avg       0.75      0.74      0.74     29248\n",
            "weighted avg       0.86      0.87      0.86     29248\n",
            "\n",
            "2532/2532 [==============================] - 189s 75ms/step - loss: 0.0676\n"
          ]
        },
        {
          "output_type": "execute_result",
          "data": {
            "text/plain": [
              "<keras.callbacks.History at 0x7f7e4465f9d0>"
            ]
          },
          "metadata": {},
          "execution_count": 43
        }
      ]
    },
    {
      "cell_type": "markdown",
      "source": [
        "# Prediction"
      ],
      "metadata": {
        "id": "nGqv5yH7AogH"
      }
    },
    {
      "cell_type": "code",
      "source": [
        "def convert_examples_to_features_for_prediction(examples, max_seq_len, \n",
        "                                                tokenizer, \n",
        "                                                pad_token_id_for_segment=0,\n",
        "                                                pad_token_id_for_label=-100):\n",
        "    cls_token = tokenizer.cls_token\n",
        "    sep_token = tokenizer.sep_token\n",
        "    pad_token_id = tokenizer.pad_token_id\n",
        "\n",
        "    input_ids, attention_masks, token_type_ids, label_masks = [], [], [], []\n",
        "\n",
        "    for example in tqdm(examples):\n",
        "        tokens = []\n",
        "        label_mask = []\n",
        "        for one_word in example:\n",
        "            # Subword tokenize each word\n",
        "            subword_tokens = tokenizer.tokenize(one_word)\n",
        "            tokens.extend(subword_tokens)\n",
        "            # Except first subword, fill other labels with -100\n",
        "            label_mask.extend([0] + [pad_token_id_for_label] * (len(subword_tokens) -1))\n",
        "        \n",
        "        # Considering that we will add tokens for [CLS] and [SEP], \n",
        "        # Truncate sample with length over max_seq_len to (max_seq_len - 2)\n",
        "        special_tokens_count = 2\n",
        "        if len(tokens) > max_seq_len - special_tokens_count:\n",
        "            tokens = tokens[ : (max_seq_len - special_tokens_count)]\n",
        "            label_mask = label_mask[: (max_seq_len - special_tokens_count)]\n",
        "        \n",
        "         # Code for adding [SEP]\n",
        "        # 1. Add [SEP] at the end of sequence\n",
        "        # 2. Same for labels\n",
        "        tokens += [sep_token]\n",
        "        label_mask += [pad_token_id_for_label]\n",
        "\n",
        "        # Code for adding [CLS]\n",
        "        # 1. Add [CLS] at the commece of sequence\n",
        "        # 2. Same for labels\n",
        "        tokens = [cls_token] + tokens\n",
        "        label_mask = [pad_token_id_for_label] + label_mask\n",
        "\n",
        "        # Integer Encoding\n",
        "        input_id = tokenizer.convert_tokens_to_ids(tokens)\n",
        "\n",
        "        # Attention Mask\n",
        "        attention_mask = [1] * len(input_id)\n",
        "\n",
        "        # Calc padding length for integer encoding\n",
        "        padding_count = max_seq_len - len(input_id)\n",
        "\n",
        "        # Pad to integer encoding and attention mask\n",
        "        input_id = input_id + ([pad_token_id] * padding_count)\n",
        "        attention_mask = attention_mask + ([0] * padding_count)\n",
        "\n",
        "        # Segment encoding\n",
        "        token_type_id = [pad_token_id_for_segment] * max_seq_len\n",
        "\n",
        "        # Pad Labels (Idx of padding token is -100)\n",
        "        label_mask = label_mask + ([pad_token_id_for_label] * padding_count)\n",
        "\n",
        "        assert len(input_id) == max_seq_len, \"Error with input length {} vs {}\".format(len(input_id), max_seq_len)\n",
        "        assert len(attention_mask) == max_seq_len, \"Error with input length {} vs {}\".format(len(attention_mask), max_seq_len)\n",
        "        assert len(token_type_id) == max_seq_len, \"Error with input length {} vs {}\".format(len(token_type_id), max_seq_len)\n",
        "        assert len(label_mask) == max_seq_len, \"Error with input length {} vs {}\".format(len(label_mask), max_seq_len)\n",
        "\n",
        "        input_ids.append(input_id)\n",
        "        attention_masks.append(attention_mask)\n",
        "        token_type_ids.append(token_type_id)\n",
        "        label_masks.append(label)\n",
        "\n",
        "    input_ids = np.asarray(input_ids, dtype=int)\n",
        "    attention_masks = np.asarray(attention_masks, dtype=int)\n",
        "    token_type_ids = np.asarray(token_type_ids, dtype=int)\n",
        "    label_masks = np.asarray(label_masks, dtype=int)\n",
        "\n",
        "    return (input_ids, attention_masks, token_type_ids), label_masks"
      ],
      "metadata": {
        "id": "dy6OQSsPApfl"
      },
      "execution_count": 46,
      "outputs": []
    },
    {
      "cell_type": "markdown",
      "source": [
        "* Sample 5 data from test set and do test whether NER model works"
      ],
      "metadata": {
        "id": "bWfQQxl7FHF2"
      }
    },
    {
      "cell_type": "code",
      "source": [
        "X_pred, label_masks = convert_examples_to_features_for_prediction(\n",
        "    test_data_sentence[:5], max_seq_len=128, tokenizer=tokenizer)"
      ],
      "metadata": {
        "id": "MdjV2BhKFwKa"
      },
      "execution_count": null,
      "outputs": []
    },
    {
      "cell_type": "code",
      "source": [
        "print(\"Original Sentence :\", test_data_sentence[0])\n",
        "print('-' * 50)\n",
        "print(\"Tokenized Sentence :\", [tokenizer.decode([word]) for word in X_pred[0][0]])\n",
        "print(\"Label Mask :\", ['[PAD]' if idx == -100 else '[FIRST]' for idx in label_masks[0]])"
      ],
      "metadata": {
        "id": "2Fg_Zlj4F5xj"
      },
      "execution_count": null,
      "outputs": []
    },
    {
      "cell_type": "code",
      "source": [
        "def ner_prediction(examples, max_seq_len, tokenizer):\n",
        "    examples = [sent.split() for sent in examples]\n",
        "    X_pred, label_masks = convert_examples_to_features_for_prediction(examples, \n",
        "                                                                      max_seq_len=128, \n",
        "                                                                      tokenizer=tokenizer)\n",
        "    y_predicted = model.predict(X_pred)\n",
        "    y_predicted = np.argmax(y_predicted, axis=2)\n",
        "\n",
        "    pred_list = []\n",
        "    result_list = []\n",
        "\n",
        "    for i in range(0, len(label_masks)):\n",
        "        pred_tag = []\n",
        "\n",
        "        # ex) Model's decoding process\n",
        "        # From y_predicted, remove the value located in the place where the value of label_masks is -100\n",
        "        # label_masks : [-100 0 -100 0 -100]\n",
        "        # y_predicted : [  0  1   0   2   0 ] ===> [1 2] ===> final_prediction (pred_tag) : [PER-B PER-I]\n",
        "\n",
        "        for label_index, pred_index in zip(label_masks[i], y_predicted[i]):\n",
        "            if label_index != -100:\n",
        "                pred_tag.append(index_to_tag[pred_index])\n",
        "        \n",
        "        pred_list.append(pred_tag)\n",
        "\n",
        "    for example, pred in zip(examples, pred_list):\n",
        "        one_sample_result = []\n",
        "        for one_word, label_token in zip(example, pred):\n",
        "            one_sample_result.append((one_word, label_token))\n",
        "        result_list.append(one_sample_result)\n",
        "    \n",
        "    return result_list"
      ],
      "metadata": {
        "id": "_IHVB6vdGaP9"
      },
      "execution_count": 48,
      "outputs": []
    },
    {
      "cell_type": "markdown",
      "source": [
        "* Let's predicy Entity name for two sentences that are not exist in training data"
      ],
      "metadata": {
        "id": "7ec7z84WIruY"
      }
    },
    {
      "cell_type": "code",
      "source": [
        "sent1 = '오리온스는 리그 최정상급 포인트가드 김동훈을 앞세우는 빠른 공수전환이 돋보이는 팀이다'\n",
        "sent2 = '하이신사에 속한 섬들도 위로 솟아 있는데 타인은 살고 있어요'\n",
        "test_samples = [sent1, sent2]\n",
        "result_list = ner_prediction(test_samples, max_seq_len=128, tokenizer=tokenizer )\n",
        "result_list"
      ],
      "metadata": {
        "id": "SNGa7vvjIzv9"
      },
      "execution_count": null,
      "outputs": []
    }
  ]
}